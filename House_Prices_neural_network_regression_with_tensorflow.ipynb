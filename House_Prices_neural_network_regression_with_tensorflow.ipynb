{
  "nbformat": 4,
  "nbformat_minor": 0,
  "metadata": {
    "colab": {
      "provenance": []
    },
    "kernelspec": {
      "name": "python3",
      "display_name": "Python 3"
    },
    "language_info": {
      "name": "python"
    },
    "gpuClass": "standard"
  },
  "cells": [
    {
      "cell_type": "markdown",
      "source": [
        "[![Open in Colab](https://colab.research.google.com/assets/colab-badge.svg)](https://colab.research.google.com/github/zain2525/Natural-Language-Processing-with-Disaster-Tweets-NLP-/blob/main/Natural_Language_Processing.ipynb)"
      ],
      "metadata": {
        "id": "NBP_rPh3xBj5"
      }
    },
    {
      "cell_type": "markdown",
      "source": [
        "# House Prices prediction with Tensorflow regression model. 🏠\n",
        "## From data gathering and preparation to model training and evaluation\n",
        "\n",
        "\n",
        "\n"
      ],
      "metadata": {
        "id": "ZMA0Vne7xcKz"
      }
    },
    {
      "cell_type": "markdown",
      "source": [
        "**Dataset used**\n",
        "Let’s keep things simple and stick with a well-known [Housing prices dataset](https://www.kaggle.com/datasets/shree1992/housedata) from kaggel"
      ],
      "metadata": {
        "id": "9SlFVo1vFXuK"
      }
    },
    {
      "cell_type": "markdown",
      "source": [
        "## Get the data from Kaggel\n",
        "\n",
        "Frist, Download kaggle.json file on your machine that contains (username, key)"
      ],
      "metadata": {
        "id": "Q068zwVE1Wx3"
      }
    },
    {
      "cell_type": "code",
      "execution_count": 1,
      "metadata": {
        "id": "aX3nZwI9wURb"
      },
      "outputs": [],
      "source": [
        "# Install kaggle\n",
        "!pip install -q kaggle"
      ]
    },
    {
      "cell_type": "code",
      "source": [
        "# Upload kaggle.json file\n",
        "from google.colab import files\n",
        "files.upload()"
      ],
      "metadata": {
        "id": "b_9WwkDs1hPy"
      },
      "execution_count": null,
      "outputs": []
    },
    {
      "cell_type": "markdown",
      "source": [
        "Now let's Create a directory to save the data in"
      ],
      "metadata": {
        "id": "oy5Cs1Ye2Ju9"
      }
    },
    {
      "cell_type": "code",
      "source": [
        "# Create a aggle folder\n",
        "!mkdir ~/.kaggle"
      ],
      "metadata": {
        "id": "4TyYpiE52BFv"
      },
      "execution_count": 3,
      "outputs": []
    },
    {
      "cell_type": "markdown",
      "source": [
        "Now Let's copy the json file to the directory"
      ],
      "metadata": {
        "id": "oW5JCZN72NHI"
      }
    },
    {
      "cell_type": "code",
      "source": [
        "# Copy the kaggle.json to folder created\n",
        "!cp kaggle.json ~/.kaggle/"
      ],
      "metadata": {
        "id": "zcO5ln-m2LlB"
      },
      "execution_count": 4,
      "outputs": []
    },
    {
      "cell_type": "markdown",
      "source": [
        "Now, lets allow the jason file to act"
      ],
      "metadata": {
        "id": "scHcCj_W2T7H"
      }
    },
    {
      "cell_type": "code",
      "source": [
        "# Permission for the json to act\n",
        "!chmod 600 ~/.kaggle/kaggle.json"
      ],
      "metadata": {
        "id": "Vjxmur6h2OjA"
      },
      "execution_count": 5,
      "outputs": []
    },
    {
      "cell_type": "markdown",
      "source": [
        "Now, it's time to get the data from kaggel"
      ],
      "metadata": {
        "id": "o0OCkntV2YmZ"
      }
    },
    {
      "cell_type": "code",
      "source": [
        "! kaggle datasets download -d shree1992/housedata"
      ],
      "metadata": {
        "colab": {
          "base_uri": "https://localhost:8080/"
        },
        "id": "sUs39Xsd2VS4",
        "outputId": "6c0d0c32-ebb7-464a-9cd9-87dac5347f10"
      },
      "execution_count": 6,
      "outputs": [
        {
          "output_type": "stream",
          "name": "stdout",
          "text": [
            "Downloading housedata.zip to /content\n",
            "\r  0% 0.00/432k [00:00<?, ?B/s]\n",
            "\r100% 432k/432k [00:00<00:00, 106MB/s]\n"
          ]
        }
      ]
    },
    {
      "cell_type": "markdown",
      "source": [
        "### unzip the data"
      ],
      "metadata": {
        "id": "qC1Ve-Hl2mgr"
      }
    },
    {
      "cell_type": "code",
      "source": [
        "# Unzip the downloaded file\n",
        "import zipfile\n",
        "\n",
        "zip_ref = zipfile.ZipFile(\"housedata.zip\")\n",
        "zip_ref.extractall()\n",
        "zip_ref.close()"
      ],
      "metadata": {
        "id": "_9yHR3Xt2jcm"
      },
      "execution_count": 7,
      "outputs": []
    },
    {
      "cell_type": "markdown",
      "source": [
        "## Import required libraries\n"
      ],
      "metadata": {
        "id": "gqj8ipiP4ef_"
      }
    },
    {
      "cell_type": "code",
      "source": [
        "# Import required libraries\n",
        "import tensorflow as tf\n",
        "import numpy as np\n",
        "import pandas as pd\n",
        "import matplotlib.pyplot as plt"
      ],
      "metadata": {
        "id": "cvFk3LBp2uZ5"
      },
      "execution_count": 8,
      "outputs": []
    },
    {
      "cell_type": "markdown",
      "source": [
        "## Import the data."
      ],
      "metadata": {
        "id": "c6Z9-Ibt4rew"
      }
    },
    {
      "cell_type": "code",
      "source": [
        "# Read train CSV file\n",
        "data_df = pd.read_csv(\"/content/data.csv\")\n",
        "data_df.head()"
      ],
      "metadata": {
        "colab": {
          "base_uri": "https://localhost:8080/",
          "height": 461
        },
        "id": "y-gZLmVT4mju",
        "outputId": "9eda0331-8b42-4737-b2d4-b8d87a107467"
      },
      "execution_count": 12,
      "outputs": [
        {
          "output_type": "execute_result",
          "data": {
            "text/plain": [
              "                  date      price  bedrooms  bathrooms  sqft_living  sqft_lot  \\\n",
              "0  2014-05-02 00:00:00   313000.0       3.0       1.50         1340      7912   \n",
              "1  2014-05-02 00:00:00  2384000.0       5.0       2.50         3650      9050   \n",
              "2  2014-05-02 00:00:00   342000.0       3.0       2.00         1930     11947   \n",
              "3  2014-05-02 00:00:00   420000.0       3.0       2.25         2000      8030   \n",
              "4  2014-05-02 00:00:00   550000.0       4.0       2.50         1940     10500   \n",
              "\n",
              "   floors  waterfront  view  condition  sqft_above  sqft_basement  yr_built  \\\n",
              "0     1.5           0     0          3        1340              0      1955   \n",
              "1     2.0           0     4          5        3370            280      1921   \n",
              "2     1.0           0     0          4        1930              0      1966   \n",
              "3     1.0           0     0          4        1000           1000      1963   \n",
              "4     1.0           0     0          4        1140            800      1976   \n",
              "\n",
              "   yr_renovated                    street       city  statezip country  \n",
              "0          2005      18810 Densmore Ave N  Shoreline  WA 98133     USA  \n",
              "1             0           709 W Blaine St    Seattle  WA 98119     USA  \n",
              "2             0  26206-26214 143rd Ave SE       Kent  WA 98042     USA  \n",
              "3             0           857 170th Pl NE   Bellevue  WA 98008     USA  \n",
              "4          1992         9105 170th Ave NE    Redmond  WA 98052     USA  "
            ],
            "text/html": [
              "\n",
              "  <div id=\"df-84c8bf26-bcb8-4276-83bd-778998fde4e3\">\n",
              "    <div class=\"colab-df-container\">\n",
              "      <div>\n",
              "<style scoped>\n",
              "    .dataframe tbody tr th:only-of-type {\n",
              "        vertical-align: middle;\n",
              "    }\n",
              "\n",
              "    .dataframe tbody tr th {\n",
              "        vertical-align: top;\n",
              "    }\n",
              "\n",
              "    .dataframe thead th {\n",
              "        text-align: right;\n",
              "    }\n",
              "</style>\n",
              "<table border=\"1\" class=\"dataframe\">\n",
              "  <thead>\n",
              "    <tr style=\"text-align: right;\">\n",
              "      <th></th>\n",
              "      <th>date</th>\n",
              "      <th>price</th>\n",
              "      <th>bedrooms</th>\n",
              "      <th>bathrooms</th>\n",
              "      <th>sqft_living</th>\n",
              "      <th>sqft_lot</th>\n",
              "      <th>floors</th>\n",
              "      <th>waterfront</th>\n",
              "      <th>view</th>\n",
              "      <th>condition</th>\n",
              "      <th>sqft_above</th>\n",
              "      <th>sqft_basement</th>\n",
              "      <th>yr_built</th>\n",
              "      <th>yr_renovated</th>\n",
              "      <th>street</th>\n",
              "      <th>city</th>\n",
              "      <th>statezip</th>\n",
              "      <th>country</th>\n",
              "    </tr>\n",
              "  </thead>\n",
              "  <tbody>\n",
              "    <tr>\n",
              "      <th>0</th>\n",
              "      <td>2014-05-02 00:00:00</td>\n",
              "      <td>313000.0</td>\n",
              "      <td>3.0</td>\n",
              "      <td>1.50</td>\n",
              "      <td>1340</td>\n",
              "      <td>7912</td>\n",
              "      <td>1.5</td>\n",
              "      <td>0</td>\n",
              "      <td>0</td>\n",
              "      <td>3</td>\n",
              "      <td>1340</td>\n",
              "      <td>0</td>\n",
              "      <td>1955</td>\n",
              "      <td>2005</td>\n",
              "      <td>18810 Densmore Ave N</td>\n",
              "      <td>Shoreline</td>\n",
              "      <td>WA 98133</td>\n",
              "      <td>USA</td>\n",
              "    </tr>\n",
              "    <tr>\n",
              "      <th>1</th>\n",
              "      <td>2014-05-02 00:00:00</td>\n",
              "      <td>2384000.0</td>\n",
              "      <td>5.0</td>\n",
              "      <td>2.50</td>\n",
              "      <td>3650</td>\n",
              "      <td>9050</td>\n",
              "      <td>2.0</td>\n",
              "      <td>0</td>\n",
              "      <td>4</td>\n",
              "      <td>5</td>\n",
              "      <td>3370</td>\n",
              "      <td>280</td>\n",
              "      <td>1921</td>\n",
              "      <td>0</td>\n",
              "      <td>709 W Blaine St</td>\n",
              "      <td>Seattle</td>\n",
              "      <td>WA 98119</td>\n",
              "      <td>USA</td>\n",
              "    </tr>\n",
              "    <tr>\n",
              "      <th>2</th>\n",
              "      <td>2014-05-02 00:00:00</td>\n",
              "      <td>342000.0</td>\n",
              "      <td>3.0</td>\n",
              "      <td>2.00</td>\n",
              "      <td>1930</td>\n",
              "      <td>11947</td>\n",
              "      <td>1.0</td>\n",
              "      <td>0</td>\n",
              "      <td>0</td>\n",
              "      <td>4</td>\n",
              "      <td>1930</td>\n",
              "      <td>0</td>\n",
              "      <td>1966</td>\n",
              "      <td>0</td>\n",
              "      <td>26206-26214 143rd Ave SE</td>\n",
              "      <td>Kent</td>\n",
              "      <td>WA 98042</td>\n",
              "      <td>USA</td>\n",
              "    </tr>\n",
              "    <tr>\n",
              "      <th>3</th>\n",
              "      <td>2014-05-02 00:00:00</td>\n",
              "      <td>420000.0</td>\n",
              "      <td>3.0</td>\n",
              "      <td>2.25</td>\n",
              "      <td>2000</td>\n",
              "      <td>8030</td>\n",
              "      <td>1.0</td>\n",
              "      <td>0</td>\n",
              "      <td>0</td>\n",
              "      <td>4</td>\n",
              "      <td>1000</td>\n",
              "      <td>1000</td>\n",
              "      <td>1963</td>\n",
              "      <td>0</td>\n",
              "      <td>857 170th Pl NE</td>\n",
              "      <td>Bellevue</td>\n",
              "      <td>WA 98008</td>\n",
              "      <td>USA</td>\n",
              "    </tr>\n",
              "    <tr>\n",
              "      <th>4</th>\n",
              "      <td>2014-05-02 00:00:00</td>\n",
              "      <td>550000.0</td>\n",
              "      <td>4.0</td>\n",
              "      <td>2.50</td>\n",
              "      <td>1940</td>\n",
              "      <td>10500</td>\n",
              "      <td>1.0</td>\n",
              "      <td>0</td>\n",
              "      <td>0</td>\n",
              "      <td>4</td>\n",
              "      <td>1140</td>\n",
              "      <td>800</td>\n",
              "      <td>1976</td>\n",
              "      <td>1992</td>\n",
              "      <td>9105 170th Ave NE</td>\n",
              "      <td>Redmond</td>\n",
              "      <td>WA 98052</td>\n",
              "      <td>USA</td>\n",
              "    </tr>\n",
              "  </tbody>\n",
              "</table>\n",
              "</div>\n",
              "      <button class=\"colab-df-convert\" onclick=\"convertToInteractive('df-84c8bf26-bcb8-4276-83bd-778998fde4e3')\"\n",
              "              title=\"Convert this dataframe to an interactive table.\"\n",
              "              style=\"display:none;\">\n",
              "        \n",
              "  <svg xmlns=\"http://www.w3.org/2000/svg\" height=\"24px\"viewBox=\"0 0 24 24\"\n",
              "       width=\"24px\">\n",
              "    <path d=\"M0 0h24v24H0V0z\" fill=\"none\"/>\n",
              "    <path d=\"M18.56 5.44l.94 2.06.94-2.06 2.06-.94-2.06-.94-.94-2.06-.94 2.06-2.06.94zm-11 1L8.5 8.5l.94-2.06 2.06-.94-2.06-.94L8.5 2.5l-.94 2.06-2.06.94zm10 10l.94 2.06.94-2.06 2.06-.94-2.06-.94-.94-2.06-.94 2.06-2.06.94z\"/><path d=\"M17.41 7.96l-1.37-1.37c-.4-.4-.92-.59-1.43-.59-.52 0-1.04.2-1.43.59L10.3 9.45l-7.72 7.72c-.78.78-.78 2.05 0 2.83L4 21.41c.39.39.9.59 1.41.59.51 0 1.02-.2 1.41-.59l7.78-7.78 2.81-2.81c.8-.78.8-2.07 0-2.86zM5.41 20L4 18.59l7.72-7.72 1.47 1.35L5.41 20z\"/>\n",
              "  </svg>\n",
              "      </button>\n",
              "      \n",
              "  <style>\n",
              "    .colab-df-container {\n",
              "      display:flex;\n",
              "      flex-wrap:wrap;\n",
              "      gap: 12px;\n",
              "    }\n",
              "\n",
              "    .colab-df-convert {\n",
              "      background-color: #E8F0FE;\n",
              "      border: none;\n",
              "      border-radius: 50%;\n",
              "      cursor: pointer;\n",
              "      display: none;\n",
              "      fill: #1967D2;\n",
              "      height: 32px;\n",
              "      padding: 0 0 0 0;\n",
              "      width: 32px;\n",
              "    }\n",
              "\n",
              "    .colab-df-convert:hover {\n",
              "      background-color: #E2EBFA;\n",
              "      box-shadow: 0px 1px 2px rgba(60, 64, 67, 0.3), 0px 1px 3px 1px rgba(60, 64, 67, 0.15);\n",
              "      fill: #174EA6;\n",
              "    }\n",
              "\n",
              "    [theme=dark] .colab-df-convert {\n",
              "      background-color: #3B4455;\n",
              "      fill: #D2E3FC;\n",
              "    }\n",
              "\n",
              "    [theme=dark] .colab-df-convert:hover {\n",
              "      background-color: #434B5C;\n",
              "      box-shadow: 0px 1px 3px 1px rgba(0, 0, 0, 0.15);\n",
              "      filter: drop-shadow(0px 1px 2px rgba(0, 0, 0, 0.3));\n",
              "      fill: #FFFFFF;\n",
              "    }\n",
              "  </style>\n",
              "\n",
              "      <script>\n",
              "        const buttonEl =\n",
              "          document.querySelector('#df-84c8bf26-bcb8-4276-83bd-778998fde4e3 button.colab-df-convert');\n",
              "        buttonEl.style.display =\n",
              "          google.colab.kernel.accessAllowed ? 'block' : 'none';\n",
              "\n",
              "        async function convertToInteractive(key) {\n",
              "          const element = document.querySelector('#df-84c8bf26-bcb8-4276-83bd-778998fde4e3');\n",
              "          const dataTable =\n",
              "            await google.colab.kernel.invokeFunction('convertToInteractive',\n",
              "                                                     [key], {});\n",
              "          if (!dataTable) return;\n",
              "\n",
              "          const docLinkHtml = 'Like what you see? Visit the ' +\n",
              "            '<a target=\"_blank\" href=https://colab.research.google.com/notebooks/data_table.ipynb>data table notebook</a>'\n",
              "            + ' to learn more about interactive tables.';\n",
              "          element.innerHTML = '';\n",
              "          dataTable['output_type'] = 'display_data';\n",
              "          await google.colab.output.renderOutput(dataTable, element);\n",
              "          const docLink = document.createElement('div');\n",
              "          docLink.innerHTML = docLinkHtml;\n",
              "          element.appendChild(docLink);\n",
              "        }\n",
              "      </script>\n",
              "    </div>\n",
              "  </div>\n",
              "  "
            ]
          },
          "metadata": {},
          "execution_count": 12
        }
      ]
    },
    {
      "cell_type": "markdown",
      "source": [
        "### Deleting unnecessary columns\n",
        "\n",
        "Since we want to avoid spending too much time preparing the data, it’s best to drop most of the non-numeric features. Keep only the city column, as it’s simple enough to encode:"
      ],
      "metadata": {
        "id": "EMEX73LTGx9o"
      }
    },
    {
      "cell_type": "code",
      "source": [
        "to_drop = ['date', 'street', 'statezip', 'country']\n",
        "df = data_df.drop(to_drop, axis=1)"
      ],
      "metadata": {
        "id": "ngSSWlLlG9KQ"
      },
      "execution_count": 13,
      "outputs": []
    },
    {
      "cell_type": "markdown",
      "source": [
        "Here’s how it should look like now"
      ],
      "metadata": {
        "id": "RMEJ_BwTIL-g"
      }
    },
    {
      "cell_type": "code",
      "source": [
        "df.head()"
      ],
      "metadata": {
        "colab": {
          "base_uri": "https://localhost:8080/",
          "height": 270
        },
        "id": "TmNVdueAIOyG",
        "outputId": "d456d717-eca8-4f39-806f-d25b0cb6530c"
      },
      "execution_count": 14,
      "outputs": [
        {
          "output_type": "execute_result",
          "data": {
            "text/plain": [
              "       price  bedrooms  bathrooms  sqft_living  sqft_lot  floors  waterfront  \\\n",
              "0   313000.0       3.0       1.50         1340      7912     1.5           0   \n",
              "1  2384000.0       5.0       2.50         3650      9050     2.0           0   \n",
              "2   342000.0       3.0       2.00         1930     11947     1.0           0   \n",
              "3   420000.0       3.0       2.25         2000      8030     1.0           0   \n",
              "4   550000.0       4.0       2.50         1940     10500     1.0           0   \n",
              "\n",
              "   view  condition  sqft_above  sqft_basement  yr_built  yr_renovated  \\\n",
              "0     0          3        1340              0      1955          2005   \n",
              "1     4          5        3370            280      1921             0   \n",
              "2     0          4        1930              0      1966             0   \n",
              "3     0          4        1000           1000      1963             0   \n",
              "4     0          4        1140            800      1976          1992   \n",
              "\n",
              "        city  \n",
              "0  Shoreline  \n",
              "1    Seattle  \n",
              "2       Kent  \n",
              "3   Bellevue  \n",
              "4    Redmond  "
            ],
            "text/html": [
              "\n",
              "  <div id=\"df-4c40bde1-7d7d-47a3-afbe-2740444f7e88\">\n",
              "    <div class=\"colab-df-container\">\n",
              "      <div>\n",
              "<style scoped>\n",
              "    .dataframe tbody tr th:only-of-type {\n",
              "        vertical-align: middle;\n",
              "    }\n",
              "\n",
              "    .dataframe tbody tr th {\n",
              "        vertical-align: top;\n",
              "    }\n",
              "\n",
              "    .dataframe thead th {\n",
              "        text-align: right;\n",
              "    }\n",
              "</style>\n",
              "<table border=\"1\" class=\"dataframe\">\n",
              "  <thead>\n",
              "    <tr style=\"text-align: right;\">\n",
              "      <th></th>\n",
              "      <th>price</th>\n",
              "      <th>bedrooms</th>\n",
              "      <th>bathrooms</th>\n",
              "      <th>sqft_living</th>\n",
              "      <th>sqft_lot</th>\n",
              "      <th>floors</th>\n",
              "      <th>waterfront</th>\n",
              "      <th>view</th>\n",
              "      <th>condition</th>\n",
              "      <th>sqft_above</th>\n",
              "      <th>sqft_basement</th>\n",
              "      <th>yr_built</th>\n",
              "      <th>yr_renovated</th>\n",
              "      <th>city</th>\n",
              "    </tr>\n",
              "  </thead>\n",
              "  <tbody>\n",
              "    <tr>\n",
              "      <th>0</th>\n",
              "      <td>313000.0</td>\n",
              "      <td>3.0</td>\n",
              "      <td>1.50</td>\n",
              "      <td>1340</td>\n",
              "      <td>7912</td>\n",
              "      <td>1.5</td>\n",
              "      <td>0</td>\n",
              "      <td>0</td>\n",
              "      <td>3</td>\n",
              "      <td>1340</td>\n",
              "      <td>0</td>\n",
              "      <td>1955</td>\n",
              "      <td>2005</td>\n",
              "      <td>Shoreline</td>\n",
              "    </tr>\n",
              "    <tr>\n",
              "      <th>1</th>\n",
              "      <td>2384000.0</td>\n",
              "      <td>5.0</td>\n",
              "      <td>2.50</td>\n",
              "      <td>3650</td>\n",
              "      <td>9050</td>\n",
              "      <td>2.0</td>\n",
              "      <td>0</td>\n",
              "      <td>4</td>\n",
              "      <td>5</td>\n",
              "      <td>3370</td>\n",
              "      <td>280</td>\n",
              "      <td>1921</td>\n",
              "      <td>0</td>\n",
              "      <td>Seattle</td>\n",
              "    </tr>\n",
              "    <tr>\n",
              "      <th>2</th>\n",
              "      <td>342000.0</td>\n",
              "      <td>3.0</td>\n",
              "      <td>2.00</td>\n",
              "      <td>1930</td>\n",
              "      <td>11947</td>\n",
              "      <td>1.0</td>\n",
              "      <td>0</td>\n",
              "      <td>0</td>\n",
              "      <td>4</td>\n",
              "      <td>1930</td>\n",
              "      <td>0</td>\n",
              "      <td>1966</td>\n",
              "      <td>0</td>\n",
              "      <td>Kent</td>\n",
              "    </tr>\n",
              "    <tr>\n",
              "      <th>3</th>\n",
              "      <td>420000.0</td>\n",
              "      <td>3.0</td>\n",
              "      <td>2.25</td>\n",
              "      <td>2000</td>\n",
              "      <td>8030</td>\n",
              "      <td>1.0</td>\n",
              "      <td>0</td>\n",
              "      <td>0</td>\n",
              "      <td>4</td>\n",
              "      <td>1000</td>\n",
              "      <td>1000</td>\n",
              "      <td>1963</td>\n",
              "      <td>0</td>\n",
              "      <td>Bellevue</td>\n",
              "    </tr>\n",
              "    <tr>\n",
              "      <th>4</th>\n",
              "      <td>550000.0</td>\n",
              "      <td>4.0</td>\n",
              "      <td>2.50</td>\n",
              "      <td>1940</td>\n",
              "      <td>10500</td>\n",
              "      <td>1.0</td>\n",
              "      <td>0</td>\n",
              "      <td>0</td>\n",
              "      <td>4</td>\n",
              "      <td>1140</td>\n",
              "      <td>800</td>\n",
              "      <td>1976</td>\n",
              "      <td>1992</td>\n",
              "      <td>Redmond</td>\n",
              "    </tr>\n",
              "  </tbody>\n",
              "</table>\n",
              "</div>\n",
              "      <button class=\"colab-df-convert\" onclick=\"convertToInteractive('df-4c40bde1-7d7d-47a3-afbe-2740444f7e88')\"\n",
              "              title=\"Convert this dataframe to an interactive table.\"\n",
              "              style=\"display:none;\">\n",
              "        \n",
              "  <svg xmlns=\"http://www.w3.org/2000/svg\" height=\"24px\"viewBox=\"0 0 24 24\"\n",
              "       width=\"24px\">\n",
              "    <path d=\"M0 0h24v24H0V0z\" fill=\"none\"/>\n",
              "    <path d=\"M18.56 5.44l.94 2.06.94-2.06 2.06-.94-2.06-.94-.94-2.06-.94 2.06-2.06.94zm-11 1L8.5 8.5l.94-2.06 2.06-.94-2.06-.94L8.5 2.5l-.94 2.06-2.06.94zm10 10l.94 2.06.94-2.06 2.06-.94-2.06-.94-.94-2.06-.94 2.06-2.06.94z\"/><path d=\"M17.41 7.96l-1.37-1.37c-.4-.4-.92-.59-1.43-.59-.52 0-1.04.2-1.43.59L10.3 9.45l-7.72 7.72c-.78.78-.78 2.05 0 2.83L4 21.41c.39.39.9.59 1.41.59.51 0 1.02-.2 1.41-.59l7.78-7.78 2.81-2.81c.8-.78.8-2.07 0-2.86zM5.41 20L4 18.59l7.72-7.72 1.47 1.35L5.41 20z\"/>\n",
              "  </svg>\n",
              "      </button>\n",
              "      \n",
              "  <style>\n",
              "    .colab-df-container {\n",
              "      display:flex;\n",
              "      flex-wrap:wrap;\n",
              "      gap: 12px;\n",
              "    }\n",
              "\n",
              "    .colab-df-convert {\n",
              "      background-color: #E8F0FE;\n",
              "      border: none;\n",
              "      border-radius: 50%;\n",
              "      cursor: pointer;\n",
              "      display: none;\n",
              "      fill: #1967D2;\n",
              "      height: 32px;\n",
              "      padding: 0 0 0 0;\n",
              "      width: 32px;\n",
              "    }\n",
              "\n",
              "    .colab-df-convert:hover {\n",
              "      background-color: #E2EBFA;\n",
              "      box-shadow: 0px 1px 2px rgba(60, 64, 67, 0.3), 0px 1px 3px 1px rgba(60, 64, 67, 0.15);\n",
              "      fill: #174EA6;\n",
              "    }\n",
              "\n",
              "    [theme=dark] .colab-df-convert {\n",
              "      background-color: #3B4455;\n",
              "      fill: #D2E3FC;\n",
              "    }\n",
              "\n",
              "    [theme=dark] .colab-df-convert:hover {\n",
              "      background-color: #434B5C;\n",
              "      box-shadow: 0px 1px 3px 1px rgba(0, 0, 0, 0.15);\n",
              "      filter: drop-shadow(0px 1px 2px rgba(0, 0, 0, 0.3));\n",
              "      fill: #FFFFFF;\n",
              "    }\n",
              "  </style>\n",
              "\n",
              "      <script>\n",
              "        const buttonEl =\n",
              "          document.querySelector('#df-4c40bde1-7d7d-47a3-afbe-2740444f7e88 button.colab-df-convert');\n",
              "        buttonEl.style.display =\n",
              "          google.colab.kernel.accessAllowed ? 'block' : 'none';\n",
              "\n",
              "        async function convertToInteractive(key) {\n",
              "          const element = document.querySelector('#df-4c40bde1-7d7d-47a3-afbe-2740444f7e88');\n",
              "          const dataTable =\n",
              "            await google.colab.kernel.invokeFunction('convertToInteractive',\n",
              "                                                     [key], {});\n",
              "          if (!dataTable) return;\n",
              "\n",
              "          const docLinkHtml = 'Like what you see? Visit the ' +\n",
              "            '<a target=\"_blank\" href=https://colab.research.google.com/notebooks/data_table.ipynb>data table notebook</a>'\n",
              "            + ' to learn more about interactive tables.';\n",
              "          element.innerHTML = '';\n",
              "          dataTable['output_type'] = 'display_data';\n",
              "          await google.colab.output.renderOutput(dataTable, element);\n",
              "          const docLink = document.createElement('div');\n",
              "          docLink.innerHTML = docLinkHtml;\n",
              "          element.appendChild(docLink);\n",
              "        }\n",
              "      </script>\n",
              "    </div>\n",
              "  </div>\n",
              "  "
            ]
          },
          "metadata": {},
          "execution_count": 14
        }
      ]
    },
    {
      "cell_type": "markdown",
      "source": [
        "### Feature engineering"
      ],
      "metadata": {
        "id": "KYSZjQc3IdZb"
      }
    },
    {
      "cell_type": "markdown",
      "source": [
        "The **yr_renovated** column sometimes has the value of 0. I assume that’s because the house wasn’t renovated. \n",
        "\n",
        "I’ll create a couple of features — house age, was the house renovated or not, was it renovated in the last 10 years, and was it renovated in the last 30 years."
      ],
      "metadata": {
        "id": "0yXl8azGIyWC"
      }
    },
    {
      "cell_type": "markdown",
      "source": [
        "I can use list comprehension for every mentioned feature. Here’s how:"
      ],
      "metadata": {
        "id": "TQcLQuJFI_nj"
      }
    },
    {
      "cell_type": "code",
      "source": [
        "# How old is the house?\n",
        "df['house_age'] = [2021 - yr_built for yr_built in df['yr_built']]\n",
        "\n",
        "# Was the house renovated and was the renovation recent?\n",
        "df['was_renovated'] = [1 if yr_renovated != 0 else 0 \n",
        "    for yr_renovated in df['yr_renovated']]\n",
        "df['was_renovated_10_yrs'] = [1 if (2021 - yr_renovated) <= 10 \n",
        "    else 0 for yr_renovated in df['yr_renovated']]\n",
        "df['was_renovated_30_yrs'] = [1 if 10 < (2021 - yr_renovated) <= 30\n",
        "    else 0 for yr_renovated in df['yr_renovated']]\n",
        "\n",
        "# Drop original columns\n",
        "df = df.drop(['yr_built', 'yr_renovated'], axis=1)"
      ],
      "metadata": {
        "id": "wIWad5bVJC-i"
      },
      "execution_count": 15,
      "outputs": []
    },
    {
      "cell_type": "markdown",
      "source": [
        "Here’s how the dataset looks now:"
      ],
      "metadata": {
        "id": "MQPcKx7VJJoS"
      }
    },
    {
      "cell_type": "code",
      "source": [
        "df.head()"
      ],
      "metadata": {
        "colab": {
          "base_uri": "https://localhost:8080/",
          "height": 270
        },
        "id": "DkT_vpSmJKym",
        "outputId": "0f8e56df-f51b-4e90-c862-5ec43d0b560e"
      },
      "execution_count": 16,
      "outputs": [
        {
          "output_type": "execute_result",
          "data": {
            "text/plain": [
              "       price  bedrooms  bathrooms  sqft_living  sqft_lot  floors  waterfront  \\\n",
              "0   313000.0       3.0       1.50         1340      7912     1.5           0   \n",
              "1  2384000.0       5.0       2.50         3650      9050     2.0           0   \n",
              "2   342000.0       3.0       2.00         1930     11947     1.0           0   \n",
              "3   420000.0       3.0       2.25         2000      8030     1.0           0   \n",
              "4   550000.0       4.0       2.50         1940     10500     1.0           0   \n",
              "\n",
              "   view  condition  sqft_above  sqft_basement       city  house_age  \\\n",
              "0     0          3        1340              0  Shoreline         66   \n",
              "1     4          5        3370            280    Seattle        100   \n",
              "2     0          4        1930              0       Kent         55   \n",
              "3     0          4        1000           1000   Bellevue         58   \n",
              "4     0          4        1140            800    Redmond         45   \n",
              "\n",
              "   was_renovated  was_renovated_10_yrs  was_renovated_30_yrs  \n",
              "0              1                     0                     1  \n",
              "1              0                     0                     0  \n",
              "2              0                     0                     0  \n",
              "3              0                     0                     0  \n",
              "4              1                     0                     1  "
            ],
            "text/html": [
              "\n",
              "  <div id=\"df-d3dfcfe4-c6f8-49b4-a4f8-52abc42c408b\">\n",
              "    <div class=\"colab-df-container\">\n",
              "      <div>\n",
              "<style scoped>\n",
              "    .dataframe tbody tr th:only-of-type {\n",
              "        vertical-align: middle;\n",
              "    }\n",
              "\n",
              "    .dataframe tbody tr th {\n",
              "        vertical-align: top;\n",
              "    }\n",
              "\n",
              "    .dataframe thead th {\n",
              "        text-align: right;\n",
              "    }\n",
              "</style>\n",
              "<table border=\"1\" class=\"dataframe\">\n",
              "  <thead>\n",
              "    <tr style=\"text-align: right;\">\n",
              "      <th></th>\n",
              "      <th>price</th>\n",
              "      <th>bedrooms</th>\n",
              "      <th>bathrooms</th>\n",
              "      <th>sqft_living</th>\n",
              "      <th>sqft_lot</th>\n",
              "      <th>floors</th>\n",
              "      <th>waterfront</th>\n",
              "      <th>view</th>\n",
              "      <th>condition</th>\n",
              "      <th>sqft_above</th>\n",
              "      <th>sqft_basement</th>\n",
              "      <th>city</th>\n",
              "      <th>house_age</th>\n",
              "      <th>was_renovated</th>\n",
              "      <th>was_renovated_10_yrs</th>\n",
              "      <th>was_renovated_30_yrs</th>\n",
              "    </tr>\n",
              "  </thead>\n",
              "  <tbody>\n",
              "    <tr>\n",
              "      <th>0</th>\n",
              "      <td>313000.0</td>\n",
              "      <td>3.0</td>\n",
              "      <td>1.50</td>\n",
              "      <td>1340</td>\n",
              "      <td>7912</td>\n",
              "      <td>1.5</td>\n",
              "      <td>0</td>\n",
              "      <td>0</td>\n",
              "      <td>3</td>\n",
              "      <td>1340</td>\n",
              "      <td>0</td>\n",
              "      <td>Shoreline</td>\n",
              "      <td>66</td>\n",
              "      <td>1</td>\n",
              "      <td>0</td>\n",
              "      <td>1</td>\n",
              "    </tr>\n",
              "    <tr>\n",
              "      <th>1</th>\n",
              "      <td>2384000.0</td>\n",
              "      <td>5.0</td>\n",
              "      <td>2.50</td>\n",
              "      <td>3650</td>\n",
              "      <td>9050</td>\n",
              "      <td>2.0</td>\n",
              "      <td>0</td>\n",
              "      <td>4</td>\n",
              "      <td>5</td>\n",
              "      <td>3370</td>\n",
              "      <td>280</td>\n",
              "      <td>Seattle</td>\n",
              "      <td>100</td>\n",
              "      <td>0</td>\n",
              "      <td>0</td>\n",
              "      <td>0</td>\n",
              "    </tr>\n",
              "    <tr>\n",
              "      <th>2</th>\n",
              "      <td>342000.0</td>\n",
              "      <td>3.0</td>\n",
              "      <td>2.00</td>\n",
              "      <td>1930</td>\n",
              "      <td>11947</td>\n",
              "      <td>1.0</td>\n",
              "      <td>0</td>\n",
              "      <td>0</td>\n",
              "      <td>4</td>\n",
              "      <td>1930</td>\n",
              "      <td>0</td>\n",
              "      <td>Kent</td>\n",
              "      <td>55</td>\n",
              "      <td>0</td>\n",
              "      <td>0</td>\n",
              "      <td>0</td>\n",
              "    </tr>\n",
              "    <tr>\n",
              "      <th>3</th>\n",
              "      <td>420000.0</td>\n",
              "      <td>3.0</td>\n",
              "      <td>2.25</td>\n",
              "      <td>2000</td>\n",
              "      <td>8030</td>\n",
              "      <td>1.0</td>\n",
              "      <td>0</td>\n",
              "      <td>0</td>\n",
              "      <td>4</td>\n",
              "      <td>1000</td>\n",
              "      <td>1000</td>\n",
              "      <td>Bellevue</td>\n",
              "      <td>58</td>\n",
              "      <td>0</td>\n",
              "      <td>0</td>\n",
              "      <td>0</td>\n",
              "    </tr>\n",
              "    <tr>\n",
              "      <th>4</th>\n",
              "      <td>550000.0</td>\n",
              "      <td>4.0</td>\n",
              "      <td>2.50</td>\n",
              "      <td>1940</td>\n",
              "      <td>10500</td>\n",
              "      <td>1.0</td>\n",
              "      <td>0</td>\n",
              "      <td>0</td>\n",
              "      <td>4</td>\n",
              "      <td>1140</td>\n",
              "      <td>800</td>\n",
              "      <td>Redmond</td>\n",
              "      <td>45</td>\n",
              "      <td>1</td>\n",
              "      <td>0</td>\n",
              "      <td>1</td>\n",
              "    </tr>\n",
              "  </tbody>\n",
              "</table>\n",
              "</div>\n",
              "      <button class=\"colab-df-convert\" onclick=\"convertToInteractive('df-d3dfcfe4-c6f8-49b4-a4f8-52abc42c408b')\"\n",
              "              title=\"Convert this dataframe to an interactive table.\"\n",
              "              style=\"display:none;\">\n",
              "        \n",
              "  <svg xmlns=\"http://www.w3.org/2000/svg\" height=\"24px\"viewBox=\"0 0 24 24\"\n",
              "       width=\"24px\">\n",
              "    <path d=\"M0 0h24v24H0V0z\" fill=\"none\"/>\n",
              "    <path d=\"M18.56 5.44l.94 2.06.94-2.06 2.06-.94-2.06-.94-.94-2.06-.94 2.06-2.06.94zm-11 1L8.5 8.5l.94-2.06 2.06-.94-2.06-.94L8.5 2.5l-.94 2.06-2.06.94zm10 10l.94 2.06.94-2.06 2.06-.94-2.06-.94-.94-2.06-.94 2.06-2.06.94z\"/><path d=\"M17.41 7.96l-1.37-1.37c-.4-.4-.92-.59-1.43-.59-.52 0-1.04.2-1.43.59L10.3 9.45l-7.72 7.72c-.78.78-.78 2.05 0 2.83L4 21.41c.39.39.9.59 1.41.59.51 0 1.02-.2 1.41-.59l7.78-7.78 2.81-2.81c.8-.78.8-2.07 0-2.86zM5.41 20L4 18.59l7.72-7.72 1.47 1.35L5.41 20z\"/>\n",
              "  </svg>\n",
              "      </button>\n",
              "      \n",
              "  <style>\n",
              "    .colab-df-container {\n",
              "      display:flex;\n",
              "      flex-wrap:wrap;\n",
              "      gap: 12px;\n",
              "    }\n",
              "\n",
              "    .colab-df-convert {\n",
              "      background-color: #E8F0FE;\n",
              "      border: none;\n",
              "      border-radius: 50%;\n",
              "      cursor: pointer;\n",
              "      display: none;\n",
              "      fill: #1967D2;\n",
              "      height: 32px;\n",
              "      padding: 0 0 0 0;\n",
              "      width: 32px;\n",
              "    }\n",
              "\n",
              "    .colab-df-convert:hover {\n",
              "      background-color: #E2EBFA;\n",
              "      box-shadow: 0px 1px 2px rgba(60, 64, 67, 0.3), 0px 1px 3px 1px rgba(60, 64, 67, 0.15);\n",
              "      fill: #174EA6;\n",
              "    }\n",
              "\n",
              "    [theme=dark] .colab-df-convert {\n",
              "      background-color: #3B4455;\n",
              "      fill: #D2E3FC;\n",
              "    }\n",
              "\n",
              "    [theme=dark] .colab-df-convert:hover {\n",
              "      background-color: #434B5C;\n",
              "      box-shadow: 0px 1px 3px 1px rgba(0, 0, 0, 0.15);\n",
              "      filter: drop-shadow(0px 1px 2px rgba(0, 0, 0, 0.3));\n",
              "      fill: #FFFFFF;\n",
              "    }\n",
              "  </style>\n",
              "\n",
              "      <script>\n",
              "        const buttonEl =\n",
              "          document.querySelector('#df-d3dfcfe4-c6f8-49b4-a4f8-52abc42c408b button.colab-df-convert');\n",
              "        buttonEl.style.display =\n",
              "          google.colab.kernel.accessAllowed ? 'block' : 'none';\n",
              "\n",
              "        async function convertToInteractive(key) {\n",
              "          const element = document.querySelector('#df-d3dfcfe4-c6f8-49b4-a4f8-52abc42c408b');\n",
              "          const dataTable =\n",
              "            await google.colab.kernel.invokeFunction('convertToInteractive',\n",
              "                                                     [key], {});\n",
              "          if (!dataTable) return;\n",
              "\n",
              "          const docLinkHtml = 'Like what you see? Visit the ' +\n",
              "            '<a target=\"_blank\" href=https://colab.research.google.com/notebooks/data_table.ipynb>data table notebook</a>'\n",
              "            + ' to learn more about interactive tables.';\n",
              "          element.innerHTML = '';\n",
              "          dataTable['output_type'] = 'display_data';\n",
              "          await google.colab.output.renderOutput(dataTable, element);\n",
              "          const docLink = document.createElement('div');\n",
              "          docLink.innerHTML = docLinkHtml;\n",
              "          element.appendChild(docLink);\n",
              "        }\n",
              "      </script>\n",
              "    </div>\n",
              "  </div>\n",
              "  "
            ]
          },
          "metadata": {},
          "execution_count": 16
        }
      ]
    },
    {
      "cell_type": "markdown",
      "source": [
        "Now let's handle the **city** column next. \n",
        "\n",
        "Many cities have only a couple of houses listed, so I can declare a function that will get rid of all city values that don’t occur often. \n",
        "\n",
        "That’s what the `remap_location()` function will do — if there are less than 50 houses in that city, it’s replaced with something else. It’s just a way to reduce the number of options:"
      ],
      "metadata": {
        "id": "ZgzRBzokDcXO"
      }
    },
    {
      "cell_type": "code",
      "source": [
        "def remap_location(data: pd.DataFrame, \n",
        "                   location: str, \n",
        "                   threshold: int = 50) -> str:\n",
        "    if len(data[data['city'] == location]) < threshold:\n",
        "        return 'Rare'\n",
        "    return location"
      ],
      "metadata": {
        "id": "FSmAg5RiJrTV"
      },
      "execution_count": 17,
      "outputs": []
    },
    {
      "cell_type": "markdown",
      "source": [
        "Let’s test the function"
      ],
      "metadata": {
        "id": "7OzVR2zrJv9z"
      }
    },
    {
      "cell_type": "code",
      "source": [
        "remap_location(data=df, location=\"Seattle\")"
      ],
      "metadata": {
        "colab": {
          "base_uri": "https://localhost:8080/",
          "height": 35
        },
        "id": "chZKEHzpJ2RK",
        "outputId": "55addd13-b69e-4ec1-ef29-f1c483b5bb24"
      },
      "execution_count": 18,
      "outputs": [
        {
          "output_type": "execute_result",
          "data": {
            "text/plain": [
              "'Seattle'"
            ],
            "application/vnd.google.colaboratory.intrinsic+json": {
              "type": "string"
            }
          },
          "metadata": {},
          "execution_count": 18
        }
      ]
    },
    {
      "cell_type": "code",
      "source": [
        "remap_location(data=df, location=\"Fall City\")"
      ],
      "metadata": {
        "colab": {
          "base_uri": "https://localhost:8080/",
          "height": 35
        },
        "id": "e2-Nf7JuKBPh",
        "outputId": "5d696f7c-20c1-41b5-a54c-d71d0ed5f17d"
      },
      "execution_count": 19,
      "outputs": [
        {
          "output_type": "execute_result",
          "data": {
            "text/plain": [
              "'Rare'"
            ],
            "application/vnd.google.colaboratory.intrinsic+json": {
              "type": "string"
            }
          },
          "metadata": {},
          "execution_count": 19
        }
      ]
    },
    {
      "cell_type": "markdown",
      "source": [
        "Let’s apply this function to all cities."
      ],
      "metadata": {
        "id": "K7BEwf3OKLFk"
      }
    },
    {
      "cell_type": "code",
      "source": [
        "df['city'] = df['city'].apply(\n",
        "    lambda x: remap_location(data=df, location=x)\n",
        ")\n",
        "df.sample(10)"
      ],
      "metadata": {
        "colab": {
          "base_uri": "https://localhost:8080/",
          "height": 462
        },
        "id": "rdAT2pFCKPrl",
        "outputId": "8573c74e-7c34-4ed9-a0ed-cff467360a90"
      },
      "execution_count": 20,
      "outputs": [
        {
          "output_type": "execute_result",
          "data": {
            "text/plain": [
              "         price  bedrooms  bathrooms  sqft_living  sqft_lot  floors  \\\n",
              "2591  373000.0       3.0       1.00         1770      5720     1.5   \n",
              "2479  324900.0       4.0       2.50         1880      7965     2.0   \n",
              "1406  293000.0       4.0       2.50         3250    235063     1.0   \n",
              "176   284000.0       4.0       2.50         2000      5390     2.0   \n",
              "4436  247875.0       2.0       1.00         1000      4776     1.0   \n",
              "649   538000.0       3.0       1.75         1400      3825     1.5   \n",
              "747   350000.0       3.0       1.75         1680    250470     1.0   \n",
              "2379  585000.0       3.0       2.50         1910      1501     2.5   \n",
              "1539  302000.0       2.0       1.00          900    423838     1.0   \n",
              "1159  361000.0       3.0       1.00         1100      4046     1.5   \n",
              "\n",
              "      waterfront  view  condition  sqft_above  sqft_basement          city  \\\n",
              "2591           0     0          4        1140            630       Seattle   \n",
              "2479           0     0          3        1880              0  Maple Valley   \n",
              "1406           0     2          3        3250              0        Auburn   \n",
              "176            0     0          3        2000              0          Kent   \n",
              "4436           0     0          4        1000              0       Seattle   \n",
              "649            0     0          4        1100            300       Seattle   \n",
              "747            0     0          4        1070            610          Rare   \n",
              "2379           0     0          3        1530            380       Seattle   \n",
              "1539           0     2          5         900              0          Rare   \n",
              "1159           0     4          4        1100              0    Des Moines   \n",
              "\n",
              "      house_age  was_renovated  was_renovated_10_yrs  was_renovated_30_yrs  \n",
              "2591         95              1                     0                     1  \n",
              "2479         21              0                     0                     0  \n",
              "1406         48              1                     1                     0  \n",
              "176          18              0                     0                     0  \n",
              "4436         79              1                     0                     0  \n",
              "649         117              0                     0                     0  \n",
              "747          81              1                     0                     1  \n",
              "2379         14              0                     0                     0  \n",
              "1539         96              0                     0                     0  \n",
              "1159         99              0                     0                     0  "
            ],
            "text/html": [
              "\n",
              "  <div id=\"df-d677bb01-45e4-42ab-95e2-4054d054d1d8\">\n",
              "    <div class=\"colab-df-container\">\n",
              "      <div>\n",
              "<style scoped>\n",
              "    .dataframe tbody tr th:only-of-type {\n",
              "        vertical-align: middle;\n",
              "    }\n",
              "\n",
              "    .dataframe tbody tr th {\n",
              "        vertical-align: top;\n",
              "    }\n",
              "\n",
              "    .dataframe thead th {\n",
              "        text-align: right;\n",
              "    }\n",
              "</style>\n",
              "<table border=\"1\" class=\"dataframe\">\n",
              "  <thead>\n",
              "    <tr style=\"text-align: right;\">\n",
              "      <th></th>\n",
              "      <th>price</th>\n",
              "      <th>bedrooms</th>\n",
              "      <th>bathrooms</th>\n",
              "      <th>sqft_living</th>\n",
              "      <th>sqft_lot</th>\n",
              "      <th>floors</th>\n",
              "      <th>waterfront</th>\n",
              "      <th>view</th>\n",
              "      <th>condition</th>\n",
              "      <th>sqft_above</th>\n",
              "      <th>sqft_basement</th>\n",
              "      <th>city</th>\n",
              "      <th>house_age</th>\n",
              "      <th>was_renovated</th>\n",
              "      <th>was_renovated_10_yrs</th>\n",
              "      <th>was_renovated_30_yrs</th>\n",
              "    </tr>\n",
              "  </thead>\n",
              "  <tbody>\n",
              "    <tr>\n",
              "      <th>2591</th>\n",
              "      <td>373000.0</td>\n",
              "      <td>3.0</td>\n",
              "      <td>1.00</td>\n",
              "      <td>1770</td>\n",
              "      <td>5720</td>\n",
              "      <td>1.5</td>\n",
              "      <td>0</td>\n",
              "      <td>0</td>\n",
              "      <td>4</td>\n",
              "      <td>1140</td>\n",
              "      <td>630</td>\n",
              "      <td>Seattle</td>\n",
              "      <td>95</td>\n",
              "      <td>1</td>\n",
              "      <td>0</td>\n",
              "      <td>1</td>\n",
              "    </tr>\n",
              "    <tr>\n",
              "      <th>2479</th>\n",
              "      <td>324900.0</td>\n",
              "      <td>4.0</td>\n",
              "      <td>2.50</td>\n",
              "      <td>1880</td>\n",
              "      <td>7965</td>\n",
              "      <td>2.0</td>\n",
              "      <td>0</td>\n",
              "      <td>0</td>\n",
              "      <td>3</td>\n",
              "      <td>1880</td>\n",
              "      <td>0</td>\n",
              "      <td>Maple Valley</td>\n",
              "      <td>21</td>\n",
              "      <td>0</td>\n",
              "      <td>0</td>\n",
              "      <td>0</td>\n",
              "    </tr>\n",
              "    <tr>\n",
              "      <th>1406</th>\n",
              "      <td>293000.0</td>\n",
              "      <td>4.0</td>\n",
              "      <td>2.50</td>\n",
              "      <td>3250</td>\n",
              "      <td>235063</td>\n",
              "      <td>1.0</td>\n",
              "      <td>0</td>\n",
              "      <td>2</td>\n",
              "      <td>3</td>\n",
              "      <td>3250</td>\n",
              "      <td>0</td>\n",
              "      <td>Auburn</td>\n",
              "      <td>48</td>\n",
              "      <td>1</td>\n",
              "      <td>1</td>\n",
              "      <td>0</td>\n",
              "    </tr>\n",
              "    <tr>\n",
              "      <th>176</th>\n",
              "      <td>284000.0</td>\n",
              "      <td>4.0</td>\n",
              "      <td>2.50</td>\n",
              "      <td>2000</td>\n",
              "      <td>5390</td>\n",
              "      <td>2.0</td>\n",
              "      <td>0</td>\n",
              "      <td>0</td>\n",
              "      <td>3</td>\n",
              "      <td>2000</td>\n",
              "      <td>0</td>\n",
              "      <td>Kent</td>\n",
              "      <td>18</td>\n",
              "      <td>0</td>\n",
              "      <td>0</td>\n",
              "      <td>0</td>\n",
              "    </tr>\n",
              "    <tr>\n",
              "      <th>4436</th>\n",
              "      <td>247875.0</td>\n",
              "      <td>2.0</td>\n",
              "      <td>1.00</td>\n",
              "      <td>1000</td>\n",
              "      <td>4776</td>\n",
              "      <td>1.0</td>\n",
              "      <td>0</td>\n",
              "      <td>0</td>\n",
              "      <td>4</td>\n",
              "      <td>1000</td>\n",
              "      <td>0</td>\n",
              "      <td>Seattle</td>\n",
              "      <td>79</td>\n",
              "      <td>1</td>\n",
              "      <td>0</td>\n",
              "      <td>0</td>\n",
              "    </tr>\n",
              "    <tr>\n",
              "      <th>649</th>\n",
              "      <td>538000.0</td>\n",
              "      <td>3.0</td>\n",
              "      <td>1.75</td>\n",
              "      <td>1400</td>\n",
              "      <td>3825</td>\n",
              "      <td>1.5</td>\n",
              "      <td>0</td>\n",
              "      <td>0</td>\n",
              "      <td>4</td>\n",
              "      <td>1100</td>\n",
              "      <td>300</td>\n",
              "      <td>Seattle</td>\n",
              "      <td>117</td>\n",
              "      <td>0</td>\n",
              "      <td>0</td>\n",
              "      <td>0</td>\n",
              "    </tr>\n",
              "    <tr>\n",
              "      <th>747</th>\n",
              "      <td>350000.0</td>\n",
              "      <td>3.0</td>\n",
              "      <td>1.75</td>\n",
              "      <td>1680</td>\n",
              "      <td>250470</td>\n",
              "      <td>1.0</td>\n",
              "      <td>0</td>\n",
              "      <td>0</td>\n",
              "      <td>4</td>\n",
              "      <td>1070</td>\n",
              "      <td>610</td>\n",
              "      <td>Rare</td>\n",
              "      <td>81</td>\n",
              "      <td>1</td>\n",
              "      <td>0</td>\n",
              "      <td>1</td>\n",
              "    </tr>\n",
              "    <tr>\n",
              "      <th>2379</th>\n",
              "      <td>585000.0</td>\n",
              "      <td>3.0</td>\n",
              "      <td>2.50</td>\n",
              "      <td>1910</td>\n",
              "      <td>1501</td>\n",
              "      <td>2.5</td>\n",
              "      <td>0</td>\n",
              "      <td>0</td>\n",
              "      <td>3</td>\n",
              "      <td>1530</td>\n",
              "      <td>380</td>\n",
              "      <td>Seattle</td>\n",
              "      <td>14</td>\n",
              "      <td>0</td>\n",
              "      <td>0</td>\n",
              "      <td>0</td>\n",
              "    </tr>\n",
              "    <tr>\n",
              "      <th>1539</th>\n",
              "      <td>302000.0</td>\n",
              "      <td>2.0</td>\n",
              "      <td>1.00</td>\n",
              "      <td>900</td>\n",
              "      <td>423838</td>\n",
              "      <td>1.0</td>\n",
              "      <td>0</td>\n",
              "      <td>2</td>\n",
              "      <td>5</td>\n",
              "      <td>900</td>\n",
              "      <td>0</td>\n",
              "      <td>Rare</td>\n",
              "      <td>96</td>\n",
              "      <td>0</td>\n",
              "      <td>0</td>\n",
              "      <td>0</td>\n",
              "    </tr>\n",
              "    <tr>\n",
              "      <th>1159</th>\n",
              "      <td>361000.0</td>\n",
              "      <td>3.0</td>\n",
              "      <td>1.00</td>\n",
              "      <td>1100</td>\n",
              "      <td>4046</td>\n",
              "      <td>1.5</td>\n",
              "      <td>0</td>\n",
              "      <td>4</td>\n",
              "      <td>4</td>\n",
              "      <td>1100</td>\n",
              "      <td>0</td>\n",
              "      <td>Des Moines</td>\n",
              "      <td>99</td>\n",
              "      <td>0</td>\n",
              "      <td>0</td>\n",
              "      <td>0</td>\n",
              "    </tr>\n",
              "  </tbody>\n",
              "</table>\n",
              "</div>\n",
              "      <button class=\"colab-df-convert\" onclick=\"convertToInteractive('df-d677bb01-45e4-42ab-95e2-4054d054d1d8')\"\n",
              "              title=\"Convert this dataframe to an interactive table.\"\n",
              "              style=\"display:none;\">\n",
              "        \n",
              "  <svg xmlns=\"http://www.w3.org/2000/svg\" height=\"24px\"viewBox=\"0 0 24 24\"\n",
              "       width=\"24px\">\n",
              "    <path d=\"M0 0h24v24H0V0z\" fill=\"none\"/>\n",
              "    <path d=\"M18.56 5.44l.94 2.06.94-2.06 2.06-.94-2.06-.94-.94-2.06-.94 2.06-2.06.94zm-11 1L8.5 8.5l.94-2.06 2.06-.94-2.06-.94L8.5 2.5l-.94 2.06-2.06.94zm10 10l.94 2.06.94-2.06 2.06-.94-2.06-.94-.94-2.06-.94 2.06-2.06.94z\"/><path d=\"M17.41 7.96l-1.37-1.37c-.4-.4-.92-.59-1.43-.59-.52 0-1.04.2-1.43.59L10.3 9.45l-7.72 7.72c-.78.78-.78 2.05 0 2.83L4 21.41c.39.39.9.59 1.41.59.51 0 1.02-.2 1.41-.59l7.78-7.78 2.81-2.81c.8-.78.8-2.07 0-2.86zM5.41 20L4 18.59l7.72-7.72 1.47 1.35L5.41 20z\"/>\n",
              "  </svg>\n",
              "      </button>\n",
              "      \n",
              "  <style>\n",
              "    .colab-df-container {\n",
              "      display:flex;\n",
              "      flex-wrap:wrap;\n",
              "      gap: 12px;\n",
              "    }\n",
              "\n",
              "    .colab-df-convert {\n",
              "      background-color: #E8F0FE;\n",
              "      border: none;\n",
              "      border-radius: 50%;\n",
              "      cursor: pointer;\n",
              "      display: none;\n",
              "      fill: #1967D2;\n",
              "      height: 32px;\n",
              "      padding: 0 0 0 0;\n",
              "      width: 32px;\n",
              "    }\n",
              "\n",
              "    .colab-df-convert:hover {\n",
              "      background-color: #E2EBFA;\n",
              "      box-shadow: 0px 1px 2px rgba(60, 64, 67, 0.3), 0px 1px 3px 1px rgba(60, 64, 67, 0.15);\n",
              "      fill: #174EA6;\n",
              "    }\n",
              "\n",
              "    [theme=dark] .colab-df-convert {\n",
              "      background-color: #3B4455;\n",
              "      fill: #D2E3FC;\n",
              "    }\n",
              "\n",
              "    [theme=dark] .colab-df-convert:hover {\n",
              "      background-color: #434B5C;\n",
              "      box-shadow: 0px 1px 3px 1px rgba(0, 0, 0, 0.15);\n",
              "      filter: drop-shadow(0px 1px 2px rgba(0, 0, 0, 0.3));\n",
              "      fill: #FFFFFF;\n",
              "    }\n",
              "  </style>\n",
              "\n",
              "      <script>\n",
              "        const buttonEl =\n",
              "          document.querySelector('#df-d677bb01-45e4-42ab-95e2-4054d054d1d8 button.colab-df-convert');\n",
              "        buttonEl.style.display =\n",
              "          google.colab.kernel.accessAllowed ? 'block' : 'none';\n",
              "\n",
              "        async function convertToInteractive(key) {\n",
              "          const element = document.querySelector('#df-d677bb01-45e4-42ab-95e2-4054d054d1d8');\n",
              "          const dataTable =\n",
              "            await google.colab.kernel.invokeFunction('convertToInteractive',\n",
              "                                                     [key], {});\n",
              "          if (!dataTable) return;\n",
              "\n",
              "          const docLinkHtml = 'Like what you see? Visit the ' +\n",
              "            '<a target=\"_blank\" href=https://colab.research.google.com/notebooks/data_table.ipynb>data table notebook</a>'\n",
              "            + ' to learn more about interactive tables.';\n",
              "          element.innerHTML = '';\n",
              "          dataTable['output_type'] = 'display_data';\n",
              "          await google.colab.output.renderOutput(dataTable, element);\n",
              "          const docLink = document.createElement('div');\n",
              "          docLink.innerHTML = docLinkHtml;\n",
              "          element.appendChild(docLink);\n",
              "        }\n",
              "      </script>\n",
              "    </div>\n",
              "  </div>\n",
              "  "
            ]
          },
          "metadata": {},
          "execution_count": 20
        }
      ]
    },
    {
      "cell_type": "markdown",
      "source": [
        "Everything looks as it should"
      ],
      "metadata": {
        "id": "1tdmPT7XcMpY"
      }
    },
    {
      "cell_type": "markdown",
      "source": [
        "### Target variable visualization\n",
        "\n",
        "Anytime we’re dealing with prices, it’s unlikely the target variable will be distributed normally. And this housing dataset is no exception. Let’s verify it by importing Matplotlib and visualizing the distribution with a Histogram:"
      ],
      "metadata": {
        "id": "3C9R6f8RcO-_"
      }
    },
    {
      "cell_type": "code",
      "source": [
        "import matplotlib.pyplot as plt\n",
        "from matplotlib import rcParams\n",
        "rcParams['figure.figsize'] = (16, 6)\n",
        "rcParams['axes.spines.top'] = False\n",
        "rcParams['axes.spines.right'] = False\n",
        "\n",
        "plt.hist(df['price'], bins=100);"
      ],
      "metadata": {
        "colab": {
          "base_uri": "https://localhost:8080/",
          "height": 276
        },
        "id": "l_nsjbgbcav_",
        "outputId": "14e4d2d5-99c8-4cc0-8e68-f1cbd6d7e631"
      },
      "execution_count": 21,
      "outputs": [
        {
          "output_type": "display_data",
          "data": {
            "text/plain": [
              "<Figure size 1152x432 with 1 Axes>"
            ],
            "image/png": "[encoded data removed]"
          },
          "metadata": {
            "needs_background": "light"
          }
        }
      ]
    },
    {
      "cell_type": "markdown",
      "source": [
        "Outliers are definitely present, so let’s handle them next.\n",
        "\n",
        "we can calculate the Z-score with Scipy.\n",
        "\n",
        "You’ll assign them as a new dataset column — **price_z**, and then keep only the rows in which the absolute value of Z is less than or equal to three\n",
        "\n",
        "There are also some houses listed for $0, so we’ll delete those as well:\n"
      ],
      "metadata": {
        "id": "SiTRYQmJcjYh"
      }
    },
    {
      "cell_type": "code",
      "source": [
        "from scipy import stats\n",
        "\n",
        "# Calculate Z-values\n",
        "df['price_z'] = np.abs(stats.zscore(df['price']))\n",
        "\n",
        "# Filter out outliers\n",
        "df = df[df['price_z'] <= 3]\n",
        "\n",
        "# Remove houses listed for $0\n",
        "df = df[df['price'] != 0]\n",
        "\n",
        "# Drop the column\n",
        "df = df.drop('price_z', axis=1)\n",
        "\n",
        "# Draw a histogram\n",
        "plt.hist(df['price'], bins=100);"
      ],
      "metadata": {
        "colab": {
          "base_uri": "https://localhost:8080/",
          "height": 278
        },
        "id": "RirTSAHWc9Rj",
        "outputId": "8579d405-e2c0-42a8-c50a-c25f5ed9a9b4"
      },
      "execution_count": 22,
      "outputs": [
        {
          "output_type": "display_data",
          "data": {
            "text/plain": [
              "<Figure size 1152x432 with 1 Axes>"
            ],
            "image/png": "[encoded data removed]"
          },
          "metadata": {
            "needs_background": "light"
          }
        }
      ]
    },
    {
      "cell_type": "markdown",
      "source": [
        "This declare look's good enough.\n",
        "\n",
        "Here’s how the dataset looks now:"
      ],
      "metadata": {
        "id": "VvsORh27dDEM"
      }
    },
    {
      "cell_type": "code",
      "source": [
        "df.head()"
      ],
      "metadata": {
        "colab": {
          "base_uri": "https://localhost:8080/",
          "height": 270
        },
        "id": "wjdA6I1-eP4Z",
        "outputId": "b2641021-355a-42bf-da26-757da2d2e626"
      },
      "execution_count": 23,
      "outputs": [
        {
          "output_type": "execute_result",
          "data": {
            "text/plain": [
              "      price  bedrooms  bathrooms  sqft_living  sqft_lot  floors  waterfront  \\\n",
              "0  313000.0       3.0       1.50         1340      7912     1.5           0   \n",
              "2  342000.0       3.0       2.00         1930     11947     1.0           0   \n",
              "3  420000.0       3.0       2.25         2000      8030     1.0           0   \n",
              "4  550000.0       4.0       2.50         1940     10500     1.0           0   \n",
              "5  490000.0       2.0       1.00          880      6380     1.0           0   \n",
              "\n",
              "   view  condition  sqft_above  sqft_basement       city  house_age  \\\n",
              "0     0          3        1340              0  Shoreline         66   \n",
              "2     0          4        1930              0       Kent         55   \n",
              "3     0          4        1000           1000   Bellevue         58   \n",
              "4     0          4        1140            800    Redmond         45   \n",
              "5     0          3         880              0    Seattle         83   \n",
              "\n",
              "   was_renovated  was_renovated_10_yrs  was_renovated_30_yrs  \n",
              "0              1                     0                     1  \n",
              "2              0                     0                     0  \n",
              "3              0                     0                     0  \n",
              "4              1                     0                     1  \n",
              "5              1                     0                     1  "
            ],
            "text/html": [
              "\n",
              "  <div id=\"df-1573ea79-2449-45bc-92aa-60de1efbd025\">\n",
              "    <div class=\"colab-df-container\">\n",
              "      <div>\n",
              "<style scoped>\n",
              "    .dataframe tbody tr th:only-of-type {\n",
              "        vertical-align: middle;\n",
              "    }\n",
              "\n",
              "    .dataframe tbody tr th {\n",
              "        vertical-align: top;\n",
              "    }\n",
              "\n",
              "    .dataframe thead th {\n",
              "        text-align: right;\n",
              "    }\n",
              "</style>\n",
              "<table border=\"1\" class=\"dataframe\">\n",
              "  <thead>\n",
              "    <tr style=\"text-align: right;\">\n",
              "      <th></th>\n",
              "      <th>price</th>\n",
              "      <th>bedrooms</th>\n",
              "      <th>bathrooms</th>\n",
              "      <th>sqft_living</th>\n",
              "      <th>sqft_lot</th>\n",
              "      <th>floors</th>\n",
              "      <th>waterfront</th>\n",
              "      <th>view</th>\n",
              "      <th>condition</th>\n",
              "      <th>sqft_above</th>\n",
              "      <th>sqft_basement</th>\n",
              "      <th>city</th>\n",
              "      <th>house_age</th>\n",
              "      <th>was_renovated</th>\n",
              "      <th>was_renovated_10_yrs</th>\n",
              "      <th>was_renovated_30_yrs</th>\n",
              "    </tr>\n",
              "  </thead>\n",
              "  <tbody>\n",
              "    <tr>\n",
              "      <th>0</th>\n",
              "      <td>313000.0</td>\n",
              "      <td>3.0</td>\n",
              "      <td>1.50</td>\n",
              "      <td>1340</td>\n",
              "      <td>7912</td>\n",
              "      <td>1.5</td>\n",
              "      <td>0</td>\n",
              "      <td>0</td>\n",
              "      <td>3</td>\n",
              "      <td>1340</td>\n",
              "      <td>0</td>\n",
              "      <td>Shoreline</td>\n",
              "      <td>66</td>\n",
              "      <td>1</td>\n",
              "      <td>0</td>\n",
              "      <td>1</td>\n",
              "    </tr>\n",
              "    <tr>\n",
              "      <th>2</th>\n",
              "      <td>342000.0</td>\n",
              "      <td>3.0</td>\n",
              "      <td>2.00</td>\n",
              "      <td>1930</td>\n",
              "      <td>11947</td>\n",
              "      <td>1.0</td>\n",
              "      <td>0</td>\n",
              "      <td>0</td>\n",
              "      <td>4</td>\n",
              "      <td>1930</td>\n",
              "      <td>0</td>\n",
              "      <td>Kent</td>\n",
              "      <td>55</td>\n",
              "      <td>0</td>\n",
              "      <td>0</td>\n",
              "      <td>0</td>\n",
              "    </tr>\n",
              "    <tr>\n",
              "      <th>3</th>\n",
              "      <td>420000.0</td>\n",
              "      <td>3.0</td>\n",
              "      <td>2.25</td>\n",
              "      <td>2000</td>\n",
              "      <td>8030</td>\n",
              "      <td>1.0</td>\n",
              "      <td>0</td>\n",
              "      <td>0</td>\n",
              "      <td>4</td>\n",
              "      <td>1000</td>\n",
              "      <td>1000</td>\n",
              "      <td>Bellevue</td>\n",
              "      <td>58</td>\n",
              "      <td>0</td>\n",
              "      <td>0</td>\n",
              "      <td>0</td>\n",
              "    </tr>\n",
              "    <tr>\n",
              "      <th>4</th>\n",
              "      <td>550000.0</td>\n",
              "      <td>4.0</td>\n",
              "      <td>2.50</td>\n",
              "      <td>1940</td>\n",
              "      <td>10500</td>\n",
              "      <td>1.0</td>\n",
              "      <td>0</td>\n",
              "      <td>0</td>\n",
              "      <td>4</td>\n",
              "      <td>1140</td>\n",
              "      <td>800</td>\n",
              "      <td>Redmond</td>\n",
              "      <td>45</td>\n",
              "      <td>1</td>\n",
              "      <td>0</td>\n",
              "      <td>1</td>\n",
              "    </tr>\n",
              "    <tr>\n",
              "      <th>5</th>\n",
              "      <td>490000.0</td>\n",
              "      <td>2.0</td>\n",
              "      <td>1.00</td>\n",
              "      <td>880</td>\n",
              "      <td>6380</td>\n",
              "      <td>1.0</td>\n",
              "      <td>0</td>\n",
              "      <td>0</td>\n",
              "      <td>3</td>\n",
              "      <td>880</td>\n",
              "      <td>0</td>\n",
              "      <td>Seattle</td>\n",
              "      <td>83</td>\n",
              "      <td>1</td>\n",
              "      <td>0</td>\n",
              "      <td>1</td>\n",
              "    </tr>\n",
              "  </tbody>\n",
              "</table>\n",
              "</div>\n",
              "      <button class=\"colab-df-convert\" onclick=\"convertToInteractive('df-1573ea79-2449-45bc-92aa-60de1efbd025')\"\n",
              "              title=\"Convert this dataframe to an interactive table.\"\n",
              "              style=\"display:none;\">\n",
              "        \n",
              "  <svg xmlns=\"http://www.w3.org/2000/svg\" height=\"24px\"viewBox=\"0 0 24 24\"\n",
              "       width=\"24px\">\n",
              "    <path d=\"M0 0h24v24H0V0z\" fill=\"none\"/>\n",
              "    <path d=\"M18.56 5.44l.94 2.06.94-2.06 2.06-.94-2.06-.94-.94-2.06-.94 2.06-2.06.94zm-11 1L8.5 8.5l.94-2.06 2.06-.94-2.06-.94L8.5 2.5l-.94 2.06-2.06.94zm10 10l.94 2.06.94-2.06 2.06-.94-2.06-.94-.94-2.06-.94 2.06-2.06.94z\"/><path d=\"M17.41 7.96l-1.37-1.37c-.4-.4-.92-.59-1.43-.59-.52 0-1.04.2-1.43.59L10.3 9.45l-7.72 7.72c-.78.78-.78 2.05 0 2.83L4 21.41c.39.39.9.59 1.41.59.51 0 1.02-.2 1.41-.59l7.78-7.78 2.81-2.81c.8-.78.8-2.07 0-2.86zM5.41 20L4 18.59l7.72-7.72 1.47 1.35L5.41 20z\"/>\n",
              "  </svg>\n",
              "      </button>\n",
              "      \n",
              "  <style>\n",
              "    .colab-df-container {\n",
              "      display:flex;\n",
              "      flex-wrap:wrap;\n",
              "      gap: 12px;\n",
              "    }\n",
              "\n",
              "    .colab-df-convert {\n",
              "      background-color: #E8F0FE;\n",
              "      border: none;\n",
              "      border-radius: 50%;\n",
              "      cursor: pointer;\n",
              "      display: none;\n",
              "      fill: #1967D2;\n",
              "      height: 32px;\n",
              "      padding: 0 0 0 0;\n",
              "      width: 32px;\n",
              "    }\n",
              "\n",
              "    .colab-df-convert:hover {\n",
              "      background-color: #E2EBFA;\n",
              "      box-shadow: 0px 1px 2px rgba(60, 64, 67, 0.3), 0px 1px 3px 1px rgba(60, 64, 67, 0.15);\n",
              "      fill: #174EA6;\n",
              "    }\n",
              "\n",
              "    [theme=dark] .colab-df-convert {\n",
              "      background-color: #3B4455;\n",
              "      fill: #D2E3FC;\n",
              "    }\n",
              "\n",
              "    [theme=dark] .colab-df-convert:hover {\n",
              "      background-color: #434B5C;\n",
              "      box-shadow: 0px 1px 3px 1px rgba(0, 0, 0, 0.15);\n",
              "      filter: drop-shadow(0px 1px 2px rgba(0, 0, 0, 0.3));\n",
              "      fill: #FFFFFF;\n",
              "    }\n",
              "  </style>\n",
              "\n",
              "      <script>\n",
              "        const buttonEl =\n",
              "          document.querySelector('#df-1573ea79-2449-45bc-92aa-60de1efbd025 button.colab-df-convert');\n",
              "        buttonEl.style.display =\n",
              "          google.colab.kernel.accessAllowed ? 'block' : 'none';\n",
              "\n",
              "        async function convertToInteractive(key) {\n",
              "          const element = document.querySelector('#df-1573ea79-2449-45bc-92aa-60de1efbd025');\n",
              "          const dataTable =\n",
              "            await google.colab.kernel.invokeFunction('convertToInteractive',\n",
              "                                                     [key], {});\n",
              "          if (!dataTable) return;\n",
              "\n",
              "          const docLinkHtml = 'Like what you see? Visit the ' +\n",
              "            '<a target=\"_blank\" href=https://colab.research.google.com/notebooks/data_table.ipynb>data table notebook</a>'\n",
              "            + ' to learn more about interactive tables.';\n",
              "          element.innerHTML = '';\n",
              "          dataTable['output_type'] = 'display_data';\n",
              "          await google.colab.output.renderOutput(dataTable, element);\n",
              "          const docLink = document.createElement('div');\n",
              "          docLink.innerHTML = docLinkHtml;\n",
              "          element.appendChild(docLink);\n",
              "        }\n",
              "      </script>\n",
              "    </div>\n",
              "  </div>\n",
              "  "
            ]
          },
          "metadata": {},
          "execution_count": 23
        }
      ]
    },
    {
      "cell_type": "markdown",
      "source": [
        "Let's see the information about the dataset"
      ],
      "metadata": {
        "id": "0TUV0iBkeipS"
      }
    },
    {
      "cell_type": "code",
      "source": [
        "df.info()"
      ],
      "metadata": {
        "colab": {
          "base_uri": "https://localhost:8080/"
        },
        "id": "A1asa3lAFHwo",
        "outputId": "39c04987-ddcf-447f-e9fc-6b4b6b23d7de"
      },
      "execution_count": 24,
      "outputs": [
        {
          "output_type": "stream",
          "name": "stdout",
          "text": [
            "<class 'pandas.core.frame.DataFrame'>\n",
            "Int64Index: 4517 entries, 0 to 4599\n",
            "Data columns (total 16 columns):\n",
            " #   Column                Non-Null Count  Dtype  \n",
            "---  ------                --------------  -----  \n",
            " 0   price                 4517 non-null   float64\n",
            " 1   bedrooms              4517 non-null   float64\n",
            " 2   bathrooms             4517 non-null   float64\n",
            " 3   sqft_living           4517 non-null   int64  \n",
            " 4   sqft_lot              4517 non-null   int64  \n",
            " 5   floors                4517 non-null   float64\n",
            " 6   waterfront            4517 non-null   int64  \n",
            " 7   view                  4517 non-null   int64  \n",
            " 8   condition             4517 non-null   int64  \n",
            " 9   sqft_above            4517 non-null   int64  \n",
            " 10  sqft_basement         4517 non-null   int64  \n",
            " 11  city                  4517 non-null   object \n",
            " 12  house_age             4517 non-null   int64  \n",
            " 13  was_renovated         4517 non-null   int64  \n",
            " 14  was_renovated_10_yrs  4517 non-null   int64  \n",
            " 15  was_renovated_30_yrs  4517 non-null   int64  \n",
            "dtypes: float64(4), int64(11), object(1)\n",
            "memory usage: 599.9+ KB\n"
          ]
        }
      ]
    },
    {
      "cell_type": "markdown",
      "source": [
        "How many sample we have"
      ],
      "metadata": {
        "id": "5cBSHHyienRs"
      }
    },
    {
      "cell_type": "code",
      "source": [
        "len(df)"
      ],
      "metadata": {
        "colab": {
          "base_uri": "https://localhost:8080/"
        },
        "id": "wwIYXoOc9qQD",
        "outputId": "c07fd976-b7b6-4a2f-f7c9-1570ce748bd5"
      },
      "execution_count": 25,
      "outputs": [
        {
          "output_type": "execute_result",
          "data": {
            "text/plain": [
              "4517"
            ]
          },
          "metadata": {},
          "execution_count": 25
        }
      ]
    },
    {
      "cell_type": "markdown",
      "source": [
        "**NOTE:** we have a small data (4517) sample so we expect that our prediction won't be so great because we have a small data set."
      ],
      "metadata": {
        "id": "U8P2FmjoDsgF"
      }
    },
    {
      "cell_type": "markdown",
      "source": [
        "## Prepare our data ML"
      ],
      "metadata": {
        "id": "xYGHKt1wEc0Z"
      }
    },
    {
      "cell_type": "markdown",
      "source": [
        "Shuffleing the datafram"
      ],
      "metadata": {
        "id": "h7x0ldcrE4dT"
      }
    },
    {
      "cell_type": "code",
      "source": [
        "data_df_shuffled = df.sample(frac=1, random_state=42)\n",
        "data_df_shuffled.head()"
      ],
      "metadata": {
        "colab": {
          "base_uri": "https://localhost:8080/",
          "height": 270
        },
        "id": "z4fJUadME6oa",
        "outputId": "ad0c014b-2a1b-4b2f-b9f0-43ba7f50757a"
      },
      "execution_count": 26,
      "outputs": [
        {
          "output_type": "execute_result",
          "data": {
            "text/plain": [
              "          price  bedrooms  bathrooms  sqft_living  sqft_lot  floors  \\\n",
              "1574   445000.0       4.0       1.75         1990      4725     1.5   \n",
              "1425   630000.0       4.0       2.50         2740     43101     2.0   \n",
              "4030  1450000.0       4.0       3.25         3770      4103     2.0   \n",
              "1079   330000.0       3.0       1.00         1250      9126     1.0   \n",
              "3257   350000.0       2.0       1.00          740      7680     1.0   \n",
              "\n",
              "      waterfront  view  condition  sqft_above  sqft_basement         city  \\\n",
              "1574           0     0          4        1190            800      Seattle   \n",
              "1425           0     0          3        2740              0  Woodinville   \n",
              "4030           0     0          5        2710           1060      Seattle   \n",
              "1079           0     0          3        1250              0  Woodinville   \n",
              "3257           0     0          4         740              0      Seattle   \n",
              "\n",
              "      house_age  was_renovated  was_renovated_10_yrs  was_renovated_30_yrs  \n",
              "1574         77              0                     0                     0  \n",
              "1425         28              0                     0                     0  \n",
              "4030         96              0                     0                     0  \n",
              "1079         52              1                     0                     1  \n",
              "3257         99              0                     0                     0  "
            ],
            "text/html": [
              "\n",
              "  <div id=\"df-f03b4288-20bc-4eb2-8684-b6e5773d9eb4\">\n",
              "    <div class=\"colab-df-container\">\n",
              "      <div>\n",
              "<style scoped>\n",
              "    .dataframe tbody tr th:only-of-type {\n",
              "        vertical-align: middle;\n",
              "    }\n",
              "\n",
              "    .dataframe tbody tr th {\n",
              "        vertical-align: top;\n",
              "    }\n",
              "\n",
              "    .dataframe thead th {\n",
              "        text-align: right;\n",
              "    }\n",
              "</style>\n",
              "<table border=\"1\" class=\"dataframe\">\n",
              "  <thead>\n",
              "    <tr style=\"text-align: right;\">\n",
              "      <th></th>\n",
              "      <th>price</th>\n",
              "      <th>bedrooms</th>\n",
              "      <th>bathrooms</th>\n",
              "      <th>sqft_living</th>\n",
              "      <th>sqft_lot</th>\n",
              "      <th>floors</th>\n",
              "      <th>waterfront</th>\n",
              "      <th>view</th>\n",
              "      <th>condition</th>\n",
              "      <th>sqft_above</th>\n",
              "      <th>sqft_basement</th>\n",
              "      <th>city</th>\n",
              "      <th>house_age</th>\n",
              "      <th>was_renovated</th>\n",
              "      <th>was_renovated_10_yrs</th>\n",
              "      <th>was_renovated_30_yrs</th>\n",
              "    </tr>\n",
              "  </thead>\n",
              "  <tbody>\n",
              "    <tr>\n",
              "      <th>1574</th>\n",
              "      <td>445000.0</td>\n",
              "      <td>4.0</td>\n",
              "      <td>1.75</td>\n",
              "      <td>1990</td>\n",
              "      <td>4725</td>\n",
              "      <td>1.5</td>\n",
              "      <td>0</td>\n",
              "      <td>0</td>\n",
              "      <td>4</td>\n",
              "      <td>1190</td>\n",
              "      <td>800</td>\n",
              "      <td>Seattle</td>\n",
              "      <td>77</td>\n",
              "      <td>0</td>\n",
              "      <td>0</td>\n",
              "      <td>0</td>\n",
              "    </tr>\n",
              "    <tr>\n",
              "      <th>1425</th>\n",
              "      <td>630000.0</td>\n",
              "      <td>4.0</td>\n",
              "      <td>2.50</td>\n",
              "      <td>2740</td>\n",
              "      <td>43101</td>\n",
              "      <td>2.0</td>\n",
              "      <td>0</td>\n",
              "      <td>0</td>\n",
              "      <td>3</td>\n",
              "      <td>2740</td>\n",
              "      <td>0</td>\n",
              "      <td>Woodinville</td>\n",
              "      <td>28</td>\n",
              "      <td>0</td>\n",
              "      <td>0</td>\n",
              "      <td>0</td>\n",
              "    </tr>\n",
              "    <tr>\n",
              "      <th>4030</th>\n",
              "      <td>1450000.0</td>\n",
              "      <td>4.0</td>\n",
              "      <td>3.25</td>\n",
              "      <td>3770</td>\n",
              "      <td>4103</td>\n",
              "      <td>2.0</td>\n",
              "      <td>0</td>\n",
              "      <td>0</td>\n",
              "      <td>5</td>\n",
              "      <td>2710</td>\n",
              "      <td>1060</td>\n",
              "      <td>Seattle</td>\n",
              "      <td>96</td>\n",
              "      <td>0</td>\n",
              "      <td>0</td>\n",
              "      <td>0</td>\n",
              "    </tr>\n",
              "    <tr>\n",
              "      <th>1079</th>\n",
              "      <td>330000.0</td>\n",
              "      <td>3.0</td>\n",
              "      <td>1.00</td>\n",
              "      <td>1250</td>\n",
              "      <td>9126</td>\n",
              "      <td>1.0</td>\n",
              "      <td>0</td>\n",
              "      <td>0</td>\n",
              "      <td>3</td>\n",
              "      <td>1250</td>\n",
              "      <td>0</td>\n",
              "      <td>Woodinville</td>\n",
              "      <td>52</td>\n",
              "      <td>1</td>\n",
              "      <td>0</td>\n",
              "      <td>1</td>\n",
              "    </tr>\n",
              "    <tr>\n",
              "      <th>3257</th>\n",
              "      <td>350000.0</td>\n",
              "      <td>2.0</td>\n",
              "      <td>1.00</td>\n",
              "      <td>740</td>\n",
              "      <td>7680</td>\n",
              "      <td>1.0</td>\n",
              "      <td>0</td>\n",
              "      <td>0</td>\n",
              "      <td>4</td>\n",
              "      <td>740</td>\n",
              "      <td>0</td>\n",
              "      <td>Seattle</td>\n",
              "      <td>99</td>\n",
              "      <td>0</td>\n",
              "      <td>0</td>\n",
              "      <td>0</td>\n",
              "    </tr>\n",
              "  </tbody>\n",
              "</table>\n",
              "</div>\n",
              "      <button class=\"colab-df-convert\" onclick=\"convertToInteractive('df-f03b4288-20bc-4eb2-8684-b6e5773d9eb4')\"\n",
              "              title=\"Convert this dataframe to an interactive table.\"\n",
              "              style=\"display:none;\">\n",
              "        \n",
              "  <svg xmlns=\"http://www.w3.org/2000/svg\" height=\"24px\"viewBox=\"0 0 24 24\"\n",
              "       width=\"24px\">\n",
              "    <path d=\"M0 0h24v24H0V0z\" fill=\"none\"/>\n",
              "    <path d=\"M18.56 5.44l.94 2.06.94-2.06 2.06-.94-2.06-.94-.94-2.06-.94 2.06-2.06.94zm-11 1L8.5 8.5l.94-2.06 2.06-.94-2.06-.94L8.5 2.5l-.94 2.06-2.06.94zm10 10l.94 2.06.94-2.06 2.06-.94-2.06-.94-.94-2.06-.94 2.06-2.06.94z\"/><path d=\"M17.41 7.96l-1.37-1.37c-.4-.4-.92-.59-1.43-.59-.52 0-1.04.2-1.43.59L10.3 9.45l-7.72 7.72c-.78.78-.78 2.05 0 2.83L4 21.41c.39.39.9.59 1.41.59.51 0 1.02-.2 1.41-.59l7.78-7.78 2.81-2.81c.8-.78.8-2.07 0-2.86zM5.41 20L4 18.59l7.72-7.72 1.47 1.35L5.41 20z\"/>\n",
              "  </svg>\n",
              "      </button>\n",
              "      \n",
              "  <style>\n",
              "    .colab-df-container {\n",
              "      display:flex;\n",
              "      flex-wrap:wrap;\n",
              "      gap: 12px;\n",
              "    }\n",
              "\n",
              "    .colab-df-convert {\n",
              "      background-color: #E8F0FE;\n",
              "      border: none;\n",
              "      border-radius: 50%;\n",
              "      cursor: pointer;\n",
              "      display: none;\n",
              "      fill: #1967D2;\n",
              "      height: 32px;\n",
              "      padding: 0 0 0 0;\n",
              "      width: 32px;\n",
              "    }\n",
              "\n",
              "    .colab-df-convert:hover {\n",
              "      background-color: #E2EBFA;\n",
              "      box-shadow: 0px 1px 2px rgba(60, 64, 67, 0.3), 0px 1px 3px 1px rgba(60, 64, 67, 0.15);\n",
              "      fill: #174EA6;\n",
              "    }\n",
              "\n",
              "    [theme=dark] .colab-df-convert {\n",
              "      background-color: #3B4455;\n",
              "      fill: #D2E3FC;\n",
              "    }\n",
              "\n",
              "    [theme=dark] .colab-df-convert:hover {\n",
              "      background-color: #434B5C;\n",
              "      box-shadow: 0px 1px 3px 1px rgba(0, 0, 0, 0.15);\n",
              "      filter: drop-shadow(0px 1px 2px rgba(0, 0, 0, 0.3));\n",
              "      fill: #FFFFFF;\n",
              "    }\n",
              "  </style>\n",
              "\n",
              "      <script>\n",
              "        const buttonEl =\n",
              "          document.querySelector('#df-f03b4288-20bc-4eb2-8684-b6e5773d9eb4 button.colab-df-convert');\n",
              "        buttonEl.style.display =\n",
              "          google.colab.kernel.accessAllowed ? 'block' : 'none';\n",
              "\n",
              "        async function convertToInteractive(key) {\n",
              "          const element = document.querySelector('#df-f03b4288-20bc-4eb2-8684-b6e5773d9eb4');\n",
              "          const dataTable =\n",
              "            await google.colab.kernel.invokeFunction('convertToInteractive',\n",
              "                                                     [key], {});\n",
              "          if (!dataTable) return;\n",
              "\n",
              "          const docLinkHtml = 'Like what you see? Visit the ' +\n",
              "            '<a target=\"_blank\" href=https://colab.research.google.com/notebooks/data_table.ipynb>data table notebook</a>'\n",
              "            + ' to learn more about interactive tables.';\n",
              "          element.innerHTML = '';\n",
              "          dataTable['output_type'] = 'display_data';\n",
              "          await google.colab.output.renderOutput(dataTable, element);\n",
              "          const docLink = document.createElement('div');\n",
              "          docLink.innerHTML = docLinkHtml;\n",
              "          element.appendChild(docLink);\n",
              "        }\n",
              "      </script>\n",
              "    </div>\n",
              "  </div>\n",
              "  "
            ]
          },
          "metadata": {},
          "execution_count": 26
        }
      ]
    },
    {
      "cell_type": "markdown",
      "source": [
        "A neural network likes to see only numerical data on the same scale. \n",
        "\n",
        "Our dataset isn’t, and we also have some non-numerical data. \n",
        "\n",
        "That’s where data scaling and one-hot encoding come into play.\n",
        "\n",
        "TO do this we can borrow a few classes from Scikit-learn.\n",
        "\n"
      ],
      "metadata": {
        "id": "KGla0X3qfID2"
      }
    },
    {
      "cell_type": "code",
      "source": [
        "# let's try one-hot encose our data so it all numbers\n",
        "from sklearn.compose import make_column_transformer\n",
        "from sklearn.preprocessing import MinMaxScaler, OneHotEncoder\n",
        "from sklearn.model_selection import train_test_split"
      ],
      "metadata": {
        "id": "rNMmqHZK5cjv"
      },
      "execution_count": 27,
      "outputs": []
    },
    {
      "cell_type": "code",
      "source": [
        "# Create a column transformer\n",
        "ct = make_column_transformer(\n",
        "    (MinMaxScaler(), ['sqft_living', 'sqft_lot','sqft_above', \n",
        "         'sqft_basement', 'house_age']),\n",
        "    (OneHotEncoder(handle_unknown=\"ignore\"), ['bedrooms', 'bathrooms', 'floors', \n",
        "         'view', 'condition'])\n",
        ")\n",
        "\n",
        "# Create X & y\n",
        "X = data_df_shuffled.drop(\"price\", axis=1)\n",
        "y = data_df_shuffled[\"price\"]\n",
        "\n",
        "# Bulid our train and validation sets\n",
        "X_train, X_test, y_train, y_test =  train_test_split(X, y, test_size=0.2, random_state=42)\n",
        "\n",
        "# Fit the column transformer to our training data\n",
        "ct.fit(X_train)\n",
        "\n",
        "# Transform training and test data with normalization (MinMaxScaler) and oneHotEncoder\n",
        "X_train_normal = ct.transform(X_train)\n",
        "X_test_normal = ct.transform(X_test)"
      ],
      "metadata": {
        "id": "YmrTCh8K6xXP"
      },
      "execution_count": 32,
      "outputs": []
    },
    {
      "cell_type": "code",
      "source": [
        "# what does our data look like now?\n",
        "X_train_normal[0]"
      ],
      "metadata": {
        "colab": {
          "base_uri": "https://localhost:8080/"
        },
        "id": "zhEV5MjPCLkA",
        "outputId": "f55818d7-8548-4f77-c4b1-201c122c0ec2"
      },
      "execution_count": 33,
      "outputs": [
        {
          "output_type": "execute_result",
          "data": {
            "text/plain": [
              "<1x53 sparse matrix of type '<class 'numpy.float64'>'\n",
              "\twith 10 stored elements in Compressed Sparse Row format>"
            ]
          },
          "metadata": {},
          "execution_count": 33
        }
      ]
    },
    {
      "cell_type": "markdown",
      "source": [
        "TensorFlow won’t be able to read that format, so we’ll have to convert it to a multidimensional Numpy array. \n",
        "\n",
        "We can use the toarray() function. Here’s an example:"
      ],
      "metadata": {
        "id": "uMjn-J0agJ02"
      }
    },
    {
      "cell_type": "code",
      "source": [
        "X_train = X_train_normal.toarray()\n",
        "X_test = X_test_normal.toarray()"
      ],
      "metadata": {
        "id": "JSUDdVz3gQWj"
      },
      "execution_count": 37,
      "outputs": []
    },
    {
      "cell_type": "code",
      "source": [
        "# What does our data look like now?\n",
        "X_train[0]"
      ],
      "metadata": {
        "colab": {
          "base_uri": "https://localhost:8080/"
        },
        "id": "cc5X8vuchLv6",
        "outputId": "bd394e64-060c-43f1-9d8f-a5b3ba9f3043"
      },
      "execution_count": 40,
      "outputs": [
        {
          "output_type": "execute_result",
          "data": {
            "text/plain": [
              "array([1.23741007e-01, 5.58877773e-04, 1.02158273e-01, 5.26315789e-02,\n",
              "       4.38596491e-02, 0.00000000e+00, 0.00000000e+00, 0.00000000e+00,\n",
              "       1.00000000e+00, 0.00000000e+00, 0.00000000e+00, 0.00000000e+00,\n",
              "       0.00000000e+00, 0.00000000e+00, 0.00000000e+00, 0.00000000e+00,\n",
              "       0.00000000e+00, 0.00000000e+00, 0.00000000e+00, 0.00000000e+00,\n",
              "       0.00000000e+00, 1.00000000e+00, 0.00000000e+00, 0.00000000e+00,\n",
              "       0.00000000e+00, 0.00000000e+00, 0.00000000e+00, 0.00000000e+00,\n",
              "       0.00000000e+00, 0.00000000e+00, 0.00000000e+00, 0.00000000e+00,\n",
              "       0.00000000e+00, 0.00000000e+00, 0.00000000e+00, 0.00000000e+00,\n",
              "       0.00000000e+00, 0.00000000e+00, 0.00000000e+00, 1.00000000e+00,\n",
              "       0.00000000e+00, 0.00000000e+00, 0.00000000e+00, 1.00000000e+00,\n",
              "       0.00000000e+00, 0.00000000e+00, 0.00000000e+00, 0.00000000e+00,\n",
              "       0.00000000e+00, 0.00000000e+00, 1.00000000e+00, 0.00000000e+00,\n",
              "       0.00000000e+00])"
            ]
          },
          "metadata": {},
          "execution_count": 40
        }
      ]
    },
    {
      "cell_type": "markdown",
      "source": [
        "Let’s finally train the model."
      ],
      "metadata": {
        "id": "n3KbqjK4hVCV"
      }
    },
    {
      "cell_type": "markdown",
      "source": [
        "## Training a regression model with TensorFlow"
      ],
      "metadata": {
        "id": "29fQKpD7hbKa"
      }
    },
    {
      "cell_type": "markdown",
      "source": [
        "We’ll now build a sequential model made of fully connected layers"
      ],
      "metadata": {
        "id": "sxSyh-lvhh-u"
      }
    },
    {
      "cell_type": "markdown",
      "source": [
        "### Loss tracking\n",
        "\n",
        "We’re dealing with housing prices here, so the loss could be quite huge if we track it through.\n",
        "\n",
        "let’s say, **mean squared error**.\n",
        "\n",
        "Because we're working on a regression problem, we'll need some regression-like metrics.\n",
        "\n",
        "A few common regression metrics (which can also be used for time series forecasting):\n",
        "\n",
        "* MAE - mean absolute error\n",
        "* MSE - mean squared error\n",
        "* RMSE - root mean square error\n",
        "* MAPE/sMAPE - (symmetric) mean absolute percentage error\n",
        "* MASE - mean absolute scaled error\n",
        "\n",
        "For all of the above metrics, **lower is better**, for example, an MAE of 0 that is better than an MAE of 100.\n",
        "\n",
        "The main thing we're evaluating here is: **how do our model's forecastes (y_pred) compare against the actual values (y_true or ground truth values)?**\n",
        "\n"
      ],
      "metadata": {
        "id": "aobfuIqnlgAx"
      }
    },
    {
      "cell_type": "code",
      "source": [
        "def mean_absolute_scaled_error(y_true, y_pred):\n",
        "  \"\"\"\n",
        "  Implement MASE (assuming no seasonality of data).\n",
        "  \"\"\"\n",
        "  mae = tf.reduce_mean(tf.abs(y_true - y_pred))\n",
        "\n",
        "  # Find MAE of naive forecast (no seasonality)\n",
        "  mae_naive_no_season = tf.reduce_mean(tf.abs(y_true[1:] - y_true[:-1])) # our seasonality is 1 day (hence the shifting of 1 day)\n",
        "\n",
        "  return mae / mae_naive_no_season"
      ],
      "metadata": {
        "id": "k7MPevpvsGCD"
      },
      "execution_count": 62,
      "outputs": []
    },
    {
      "cell_type": "code",
      "source": [
        "# Create a function to take in model prediction and truth values and return evaluation metrics\n",
        "def evaluate_preds(y_true, y_pred):\n",
        "  # Make sure float32 datatype (for metric calculations)\n",
        "  y_true = tf.cast(y_true, dtype=tf.float32)\n",
        "  y_pred = tf.cast(y_pred, dtype=tf.float32)\n",
        "\n",
        "  # Calculate various evaluation metrics\n",
        "  mae = tf.keras.metrics.mean_absolute_error(y_true, y_pred)\n",
        "  mse = tf.keras.metrics.mean_squared_error(y_true, y_pred)\n",
        "  rmse = tf.sqrt(mse)\n",
        "  mape = tf.keras.metrics.mean_absolute_percentage_error(y_true, y_pred)\n",
        "  mase = mean_absolute_scaled_error(y_true, y_pred)\n",
        "\n",
        "# Account fpr different sized metrics (for longer horizons, we want to reduce metrivs to a single value)\n",
        "  if mae.ndim > 0:\n",
        "    mae=tf.reduce_mean(mae)\n",
        "    mse=tf.reduce_mean(mse)\n",
        "    rmse=tf.reduce_mean(rmse)\n",
        "    mape=tf.reduce_mean(mape)\n",
        "    mase=tf.reduce_mean(mase)\n",
        "\n",
        "\n",
        "  return {\"MAE\": mae.numpy(),\n",
        "          \"MSE\": mse.numpy(),\n",
        "          \"RMSE\": rmse.numpy(),\n",
        "          \"MAPE\": mape.numpy(),\n",
        "          \"MASE\": mase.numpy()}"
      ],
      "metadata": {
        "id": "jz2vxoLhsOK0"
      },
      "execution_count": 69,
      "outputs": []
    },
    {
      "cell_type": "markdown",
      "source": [
        "That's one good looking evaluation function!"
      ],
      "metadata": {
        "id": "jZycbAKcsUoq"
      }
    },
    {
      "cell_type": "markdown",
      "source": [
        "### Building a model\n",
        "\n",
        "Now we you can finally declare a model.\n",
        "\n",
        "It will be a simple one, having just three hidden layers of 256, 256, and 128 units.\n",
        "\n",
        "then we'll compile the model using the `MAE` as a way to keep track of the loss and as an evaluation metric, and we’ll optimize the model using the Adam optimizer.\n",
        "\n",
        "Finally, we’ll train the model on the training data for 100 epochs."
      ],
      "metadata": {
        "id": "Eb6JAUf9mTDm"
      }
    },
    {
      "cell_type": "code",
      "source": [
        "from tensorflow.keras import layers"
      ],
      "metadata": {
        "id": "pN38abJ6uVzv"
      },
      "execution_count": 70,
      "outputs": []
    },
    {
      "cell_type": "code",
      "source": [
        "# Set the random seed\n",
        "tf.random.set_seed(42)\n",
        "\n",
        "# Create model\n",
        "model = tf.keras.Sequential([\n",
        "    layers.Dense(256, activation=\"relu\"),\n",
        "    layers.Dense(256, activation=\"relu\"),\n",
        "    layers.Dense(128, activation=\"relu\"),\n",
        "    layers.Dense(1)\n",
        "])\n",
        "\n",
        "# Compile the model\n",
        "model.compile(loss=\"mae\",\n",
        "                optimizer=tf.keras.optimizers.Adam())\n",
        "\n",
        "# Fit the model\n",
        "model.fit(X_train,\n",
        "          y_train,\n",
        "          epochs=100)"
      ],
      "metadata": {
        "colab": {
          "base_uri": "https://localhost:8080/"
        },
        "id": "bRHjqC7VTO-f",
        "outputId": "ef41571b-470d-4247-eb58-eaf71a13ead7"
      },
      "execution_count": 71,
      "outputs": [
        {
          "output_type": "stream",
          "name": "stdout",
          "text": [
            "Epoch 1/100\n",
            "113/113 [==============================] - 1s 3ms/step - loss: 524837.9375\n",
            "Epoch 2/100\n",
            "113/113 [==============================] - 0s 3ms/step - loss: 328637.7500\n",
            "Epoch 3/100\n",
            "113/113 [==============================] - 0s 3ms/step - loss: 186403.7969\n",
            "Epoch 4/100\n",
            "113/113 [==============================] - 0s 3ms/step - loss: 175402.7188\n",
            "Epoch 5/100\n",
            "113/113 [==============================] - 0s 3ms/step - loss: 169194.4062\n",
            "Epoch 6/100\n",
            "113/113 [==============================] - 0s 3ms/step - loss: 165066.6250\n",
            "Epoch 7/100\n",
            "113/113 [==============================] - 0s 3ms/step - loss: 161941.4531\n",
            "Epoch 8/100\n",
            "113/113 [==============================] - 0s 3ms/step - loss: 159442.5781\n",
            "Epoch 9/100\n",
            "113/113 [==============================] - 0s 3ms/step - loss: 157543.5938\n",
            "Epoch 10/100\n",
            "113/113 [==============================] - 0s 3ms/step - loss: 155999.4844\n",
            "Epoch 11/100\n",
            "113/113 [==============================] - 0s 3ms/step - loss: 154504.1875\n",
            "Epoch 12/100\n",
            "113/113 [==============================] - 0s 3ms/step - loss: 153290.3281\n",
            "Epoch 13/100\n",
            "113/113 [==============================] - 0s 3ms/step - loss: 152435.2969\n",
            "Epoch 14/100\n",
            "113/113 [==============================] - 0s 3ms/step - loss: 151148.9062\n",
            "Epoch 15/100\n",
            "113/113 [==============================] - 0s 3ms/step - loss: 150070.8125\n",
            "Epoch 16/100\n",
            "113/113 [==============================] - 0s 3ms/step - loss: 149195.4531\n",
            "Epoch 17/100\n",
            "113/113 [==============================] - 0s 3ms/step - loss: 148302.3594\n",
            "Epoch 18/100\n",
            "113/113 [==============================] - 0s 3ms/step - loss: 147697.8750\n",
            "Epoch 19/100\n",
            "113/113 [==============================] - 0s 3ms/step - loss: 146970.7812\n",
            "Epoch 20/100\n",
            "113/113 [==============================] - 0s 3ms/step - loss: 146445.6875\n",
            "Epoch 21/100\n",
            "113/113 [==============================] - 0s 3ms/step - loss: 146042.1250\n",
            "Epoch 22/100\n",
            "113/113 [==============================] - 0s 3ms/step - loss: 145297.7969\n",
            "Epoch 23/100\n",
            "113/113 [==============================] - 0s 3ms/step - loss: 144939.3281\n",
            "Epoch 24/100\n",
            "113/113 [==============================] - 0s 3ms/step - loss: 144456.4375\n",
            "Epoch 25/100\n",
            "113/113 [==============================] - 0s 3ms/step - loss: 143975.0000\n",
            "Epoch 26/100\n",
            "113/113 [==============================] - 0s 3ms/step - loss: 143511.3594\n",
            "Epoch 27/100\n",
            "113/113 [==============================] - 0s 3ms/step - loss: 143147.6875\n",
            "Epoch 28/100\n",
            "113/113 [==============================] - 0s 3ms/step - loss: 142763.1406\n",
            "Epoch 29/100\n",
            "113/113 [==============================] - 0s 3ms/step - loss: 142646.7656\n",
            "Epoch 30/100\n",
            "113/113 [==============================] - 0s 3ms/step - loss: 142432.9688\n",
            "Epoch 31/100\n",
            "113/113 [==============================] - 0s 3ms/step - loss: 141977.8594\n",
            "Epoch 32/100\n",
            "113/113 [==============================] - 0s 3ms/step - loss: 141695.2969\n",
            "Epoch 33/100\n",
            "113/113 [==============================] - 0s 3ms/step - loss: 141581.0312\n",
            "Epoch 34/100\n",
            "113/113 [==============================] - 0s 3ms/step - loss: 141377.6719\n",
            "Epoch 35/100\n",
            "113/113 [==============================] - 0s 3ms/step - loss: 141056.7188\n",
            "Epoch 36/100\n",
            "113/113 [==============================] - 0s 3ms/step - loss: 140874.4688\n",
            "Epoch 37/100\n",
            "113/113 [==============================] - 0s 3ms/step - loss: 140756.9062\n",
            "Epoch 38/100\n",
            "113/113 [==============================] - 0s 3ms/step - loss: 140906.7656\n",
            "Epoch 39/100\n",
            "113/113 [==============================] - 0s 3ms/step - loss: 140715.4375\n",
            "Epoch 40/100\n",
            "113/113 [==============================] - 0s 3ms/step - loss: 140439.5312\n",
            "Epoch 41/100\n",
            "113/113 [==============================] - 0s 3ms/step - loss: 140327.0312\n",
            "Epoch 42/100\n",
            "113/113 [==============================] - 0s 3ms/step - loss: 140058.2656\n",
            "Epoch 43/100\n",
            "113/113 [==============================] - 0s 3ms/step - loss: 140080.3750\n",
            "Epoch 44/100\n",
            "113/113 [==============================] - 0s 3ms/step - loss: 140413.3750\n",
            "Epoch 45/100\n",
            "113/113 [==============================] - 0s 3ms/step - loss: 139912.9062\n",
            "Epoch 46/100\n",
            "113/113 [==============================] - 0s 3ms/step - loss: 139635.9375\n",
            "Epoch 47/100\n",
            "113/113 [==============================] - 0s 3ms/step - loss: 139569.1406\n",
            "Epoch 48/100\n",
            "113/113 [==============================] - 0s 3ms/step - loss: 139461.0156\n",
            "Epoch 49/100\n",
            "113/113 [==============================] - 0s 3ms/step - loss: 139776.7188\n",
            "Epoch 50/100\n",
            "113/113 [==============================] - 0s 3ms/step - loss: 139775.2500\n",
            "Epoch 51/100\n",
            "113/113 [==============================] - 0s 3ms/step - loss: 139505.5938\n",
            "Epoch 52/100\n",
            "113/113 [==============================] - 0s 3ms/step - loss: 139644.1094\n",
            "Epoch 53/100\n",
            "113/113 [==============================] - 0s 3ms/step - loss: 139482.9375\n",
            "Epoch 54/100\n",
            "113/113 [==============================] - 0s 3ms/step - loss: 139156.1094\n",
            "Epoch 55/100\n",
            "113/113 [==============================] - 0s 3ms/step - loss: 139213.3281\n",
            "Epoch 56/100\n",
            "113/113 [==============================] - 0s 3ms/step - loss: 139281.6875\n",
            "Epoch 57/100\n",
            "113/113 [==============================] - 0s 3ms/step - loss: 139007.5000\n",
            "Epoch 58/100\n",
            "113/113 [==============================] - 0s 3ms/step - loss: 139146.7812\n",
            "Epoch 59/100\n",
            "113/113 [==============================] - 0s 3ms/step - loss: 138820.7656\n",
            "Epoch 60/100\n",
            "113/113 [==============================] - 0s 3ms/step - loss: 138876.8750\n",
            "Epoch 61/100\n",
            "113/113 [==============================] - 0s 3ms/step - loss: 138764.7969\n",
            "Epoch 62/100\n",
            "113/113 [==============================] - 0s 3ms/step - loss: 138721.0156\n",
            "Epoch 63/100\n",
            "113/113 [==============================] - 0s 3ms/step - loss: 138805.5156\n",
            "Epoch 64/100\n",
            "113/113 [==============================] - 0s 3ms/step - loss: 138658.1094\n",
            "Epoch 65/100\n",
            "113/113 [==============================] - 0s 3ms/step - loss: 138600.6562\n",
            "Epoch 66/100\n",
            "113/113 [==============================] - 0s 3ms/step - loss: 138518.1562\n",
            "Epoch 67/100\n",
            "113/113 [==============================] - 0s 3ms/step - loss: 138411.1406\n",
            "Epoch 68/100\n",
            "113/113 [==============================] - 0s 3ms/step - loss: 138612.2656\n",
            "Epoch 69/100\n",
            "113/113 [==============================] - 0s 3ms/step - loss: 138433.8906\n",
            "Epoch 70/100\n",
            "113/113 [==============================] - 0s 3ms/step - loss: 138240.3281\n",
            "Epoch 71/100\n",
            "113/113 [==============================] - 0s 3ms/step - loss: 138366.4688\n",
            "Epoch 72/100\n",
            "113/113 [==============================] - 0s 3ms/step - loss: 138368.3906\n",
            "Epoch 73/100\n",
            "113/113 [==============================] - 0s 3ms/step - loss: 138332.1250\n",
            "Epoch 74/100\n",
            "113/113 [==============================] - 0s 3ms/step - loss: 138307.7500\n",
            "Epoch 75/100\n",
            "113/113 [==============================] - 0s 3ms/step - loss: 138085.4844\n",
            "Epoch 76/100\n",
            "113/113 [==============================] - 0s 3ms/step - loss: 138343.0000\n",
            "Epoch 77/100\n",
            "113/113 [==============================] - 0s 3ms/step - loss: 138036.1562\n",
            "Epoch 78/100\n",
            "113/113 [==============================] - 0s 3ms/step - loss: 138256.9219\n",
            "Epoch 79/100\n",
            "113/113 [==============================] - 0s 3ms/step - loss: 138060.7031\n",
            "Epoch 80/100\n",
            "113/113 [==============================] - 0s 3ms/step - loss: 137992.9844\n",
            "Epoch 81/100\n",
            "113/113 [==============================] - 0s 3ms/step - loss: 138411.2656\n",
            "Epoch 82/100\n",
            "113/113 [==============================] - 0s 3ms/step - loss: 138015.3906\n",
            "Epoch 83/100\n",
            "113/113 [==============================] - 0s 3ms/step - loss: 138048.2812\n",
            "Epoch 84/100\n",
            "113/113 [==============================] - 0s 3ms/step - loss: 137709.7031\n",
            "Epoch 85/100\n",
            "113/113 [==============================] - 0s 3ms/step - loss: 138194.2969\n",
            "Epoch 86/100\n",
            "113/113 [==============================] - 0s 3ms/step - loss: 137854.9219\n",
            "Epoch 87/100\n",
            "113/113 [==============================] - 0s 3ms/step - loss: 137800.6562\n",
            "Epoch 88/100\n",
            "113/113 [==============================] - 0s 3ms/step - loss: 137964.2188\n",
            "Epoch 89/100\n",
            "113/113 [==============================] - 0s 3ms/step - loss: 137812.3594\n",
            "Epoch 90/100\n",
            "113/113 [==============================] - 0s 3ms/step - loss: 137892.3750\n",
            "Epoch 91/100\n",
            "113/113 [==============================] - 0s 3ms/step - loss: 137873.3125\n",
            "Epoch 92/100\n",
            "113/113 [==============================] - 0s 3ms/step - loss: 137616.9375\n",
            "Epoch 93/100\n",
            "113/113 [==============================] - 0s 3ms/step - loss: 137568.9688\n",
            "Epoch 94/100\n",
            "113/113 [==============================] - 0s 3ms/step - loss: 137606.1250\n",
            "Epoch 95/100\n",
            "113/113 [==============================] - 0s 3ms/step - loss: 137682.9219\n",
            "Epoch 96/100\n",
            "113/113 [==============================] - 0s 3ms/step - loss: 137662.6562\n",
            "Epoch 97/100\n",
            "113/113 [==============================] - 0s 3ms/step - loss: 137544.7344\n",
            "Epoch 98/100\n",
            "113/113 [==============================] - 0s 3ms/step - loss: 137374.4219\n",
            "Epoch 99/100\n",
            "113/113 [==============================] - 0s 3ms/step - loss: 137542.0000\n",
            "Epoch 100/100\n",
            "113/113 [==============================] - 0s 3ms/step - loss: 137438.1094\n"
          ]
        },
        {
          "output_type": "execute_result",
          "data": {
            "text/plain": [
              "<keras.callbacks.History at 0x7fea54eb8490>"
            ]
          },
          "metadata": {},
          "execution_count": 71
        }
      ]
    },
    {
      "cell_type": "markdown",
      "source": [
        "### Evaluate The model"
      ],
      "metadata": {
        "id": "kPQ0XeeNtF7n"
      }
    },
    {
      "cell_type": "code",
      "source": [
        "model.evaluate(X_test, y_test)"
      ],
      "metadata": {
        "colab": {
          "base_uri": "https://localhost:8080/"
        },
        "id": "JuOnDTnttKQP",
        "outputId": "7866980d-55aa-406c-8a5b-b406afd3e417"
      },
      "execution_count": 72,
      "outputs": [
        {
          "output_type": "stream",
          "name": "stdout",
          "text": [
            "29/29 [==============================] - 0s 2ms/step - loss: 146093.9062\n"
          ]
        },
        {
          "output_type": "execute_result",
          "data": {
            "text/plain": [
              "146093.90625"
            ]
          },
          "metadata": {},
          "execution_count": 72
        }
      ]
    },
    {
      "cell_type": "markdown",
      "source": [
        "### Making predictions\n",
        "\n",
        "we can makw predictions on the test set:"
      ],
      "metadata": {
        "id": "eVflmLqKtXHe"
      }
    },
    {
      "cell_type": "code",
      "source": [
        "predictions = model.predict(X_test)\n",
        "predictions[:5]"
      ],
      "metadata": {
        "colab": {
          "base_uri": "https://localhost:8080/"
        },
        "id": "C7viTFsttQsx",
        "outputId": "e46b8100-d6b9-4e82-81cb-8b9a6c142a9f"
      },
      "execution_count": 73,
      "outputs": [
        {
          "output_type": "stream",
          "name": "stdout",
          "text": [
            "29/29 [==============================] - 0s 1ms/step\n"
          ]
        },
        {
          "output_type": "execute_result",
          "data": {
            "text/plain": [
              "array([[ 506876.3 ],\n",
              "       [ 591096.1 ],\n",
              "       [ 356052.75],\n",
              "       [1217084.6 ],\n",
              "       [ 736939.06]], dtype=float32)"
            ]
          },
          "metadata": {},
          "execution_count": 73
        }
      ]
    },
    {
      "cell_type": "markdown",
      "source": [
        "### Model evaluation\n",
        "\n",
        "And now let’s evaluate the predictions on the test set by using `evaluate_preds` function:"
      ],
      "metadata": {
        "id": "-aPUYP_utyW6"
      }
    },
    {
      "cell_type": "code",
      "source": [
        "model_results =  evaluate_preds(y_true=y_test,\n",
        "                                  y_pred=predictions)\n",
        "model_results"
      ],
      "metadata": {
        "colab": {
          "base_uri": "https://localhost:8080/"
        },
        "id": "Tu-oVzHwtl4g",
        "outputId": "196fba3c-d6e6-4ce6-9b08-93c21bc55875"
      },
      "execution_count": 74,
      "outputs": [
        {
          "output_type": "execute_result",
          "data": {
            "text/plain": [
              "{'MAE': 286039.3,\n",
              " 'MSE': 157037660000.0,\n",
              " 'RMSE': 385318.16,\n",
              " 'MAPE': 63.982124,\n",
              " 'MASE': 0.8825782}"
            ]
          },
          "metadata": {},
          "execution_count": 74
        }
      ]
    },
    {
      "cell_type": "markdown",
      "source": [
        "The RMSE value on the training set is just above 385000, which means that for an average house, the model is wrong in the price estimate by $38500.\n",
        "\n",
        "**Note:** we have expected that our model will predict the prices poorly because we have small dataset."
      ],
      "metadata": {
        "id": "CVuvMtjrvLUH"
      }
    },
    {
      "cell_type": "markdown",
      "source": [
        "## Summary\n",
        "\n",
        "And that does it — we’ve trained a simple neural network model by now, and you know how to make predictions on the new data. Still, there’s a lot we could improve.\n",
        "\n",
        "For example, we could spend much more time preparing the data.\n",
        "\n",
        "We deleted the date-time feature, the street information, the zip code and so on, which could be valuable for the model performance. \n",
        "\n",
        "The thing is — those would take too much time to prepare, and I want to keep these project somewhat short.\n",
        "\n",
        "We could also add additional layers to the network, increase the number of neurons, choose different activation functions, select a different optimizer, add dropout layers, and much more.\n",
        "\n",
        "The possibilities are almost endless, so it all boils down to experimentation.\n",
        "\n"
      ],
      "metadata": {
        "id": "MpONYZNtwDNr"
      }
    }
  ]
}